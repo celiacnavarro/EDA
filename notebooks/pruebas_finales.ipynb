{
 "cells": [
  {
   "cell_type": "code",
   "execution_count": 1,
   "metadata": {},
   "outputs": [
    {
     "ename": "ModuleNotFoundError",
     "evalue": "No module named 'classes'",
     "output_type": "error",
     "traceback": [
      "\u001b[1;31m---------------------------------------------------------------------------\u001b[0m",
      "\u001b[1;31mModuleNotFoundError\u001b[0m                       Traceback (most recent call last)",
      "\u001b[1;32m~\\AppData\\Local\\Temp\\ipykernel_11972\\1723711144.py\u001b[0m in \u001b[0;36m<module>\u001b[1;34m\u001b[0m\n\u001b[0;32m      1\u001b[0m \u001b[1;32mimport\u001b[0m \u001b[0msys\u001b[0m\u001b[1;33m\u001b[0m\u001b[1;33m\u001b[0m\u001b[0m\n\u001b[1;32m----> 2\u001b[1;33m \u001b[1;32mfrom\u001b[0m \u001b[0mclasses\u001b[0m \u001b[1;32mimport\u001b[0m \u001b[0mDataInfo\u001b[0m\u001b[1;33m\u001b[0m\u001b[1;33m\u001b[0m\u001b[0m\n\u001b[0m\u001b[0;32m      3\u001b[0m \u001b[1;33m\u001b[0m\u001b[0m\n\u001b[0;32m      4\u001b[0m \u001b[1;32mimport\u001b[0m \u001b[0mnumpy\u001b[0m \u001b[1;32mas\u001b[0m \u001b[0mnp\u001b[0m\u001b[1;33m\u001b[0m\u001b[1;33m\u001b[0m\u001b[0m\n\u001b[0;32m      5\u001b[0m \u001b[1;32mimport\u001b[0m \u001b[0mpandas\u001b[0m \u001b[1;32mas\u001b[0m \u001b[0mpd\u001b[0m\u001b[1;33m\u001b[0m\u001b[1;33m\u001b[0m\u001b[0m\n",
      "\u001b[1;31mModuleNotFoundError\u001b[0m: No module named 'classes'"
     ]
    }
   ],
   "source": [
    "import sys \n",
    "from classes import DataInfo\n",
    "\n",
    "import numpy as np\n",
    "import pandas as pd\n",
    "import geopandas as gpd\n",
    "\n",
    "import matplotlib.pyplot as plt\n",
    "import seaborn as sns\n",
    "import plotly.express as px\n"
   ]
  },
  {
   "cell_type": "code",
   "execution_count": 182,
   "metadata": {},
   "outputs": [],
   "source": [
    "#Primer dataset\n",
    "disorders = pd.read_csv('data/prevalence-by-mental-and-substance-use-disorder.csv')\n",
    "a = DataInfo(disorders)\n",
    "a.clean()\n",
    "disorders.columns= ['Country', 'Year', 'Schizophrenia', 'Bipolar','ED', 'Anxiety','Drugs', 'Depression','Alcohol']\n",
    "a_cont = a.dfcont()\n",
    "a_inc = a.dfincome()\n",
    "\n",
    "#Segundo dataset\n",
    "depresion = pd.read_csv('data/share-with-depression.csv')\n",
    "b = DataInfo(depresion)\n",
    "b.clean()\n",
    "depresion.columns= ['Country', 'Year','Dep_prev']\n",
    "b_cont = b.dfcont()\n",
    "b_inc = b.dfincome()\n",
    "\n",
    "#Tercer dataset\n",
    "depresion_sex = pd.read_csv('data/prevalence-of-depression-males-vs-females.csv')\n",
    "c = DataInfo(depresion_sex)\n",
    "c.clean()\n",
    "depresion_sex.drop(columns=['Continent','Population (historical estimates)'], inplace=True)\n",
    "depresion_sex.columns= ['Country', 'Year','Male_dep', 'Female_dep']\n",
    "depresion_sex.dropna(inplace=True)\n",
    "\n",
    "c_cont = c.dfcont()\n",
    "c_inc = c.dfincome()\n",
    "\n",
    "\n",
    "#Cuarto dataset\n",
    "total = pd.read_csv('data/share-with-mental-and-substance-disorders.csv')\n",
    "d = DataInfo(total)\n",
    "d.clean()\n",
    "total.columns= ['Country', 'Year', 'Total_prev']\n",
    "d_cont = d.dfcont()\n",
    "d_inc = d.dfincome()\n",
    "\n",
    "#Quinto dataset\n",
    "total_sex = pd.read_csv('data/share-with-mental-or-substance-disorders-by-sex.csv')\n",
    "e = DataInfo(total_sex)\n",
    "e.clean()\n",
    "total_sex.drop(columns=['Continent','Population (historical estimates)'], inplace=True)\n",
    "total_sex.columns= ['Country', 'Year', 'Male_total', 'Female_total']\n",
    "total_sex.dropna(inplace=True)\n",
    "\n",
    "\n",
    "# Relacionamos los datasets agrupados por continente\n",
    "df_cont = pd.merge(a_cont, b_cont)\n",
    "df_cont = pd.merge(df_cont, c_cont)\n",
    "df_cont = pd.merge(df_cont, d_cont)\n",
    "\n",
    "# Relacionados los datasets agrupados por ingresos\n",
    "df_inc = pd.merge(a_inc, b_inc)\n",
    "df_inc = pd.merge(df_inc, c_inc)\n",
    "df_inc = pd.merge(df_inc, d_inc)\n"
   ]
  },
  {
   "cell_type": "code",
   "execution_count": 183,
   "metadata": {},
   "outputs": [],
   "source": [
    "df_cont = pd.merge(a_cont, b_cont)\n",
    "df_cont = pd.merge(df_cont, c_cont)\n",
    "df_cont = pd.merge(df_cont, d_cont)"
   ]
  },
  {
   "cell_type": "code",
   "execution_count": 4,
   "metadata": {},
   "outputs": [
    {
     "data": {
      "text/html": [
       "<div>\n",
       "<style scoped>\n",
       "    .dataframe tbody tr th:only-of-type {\n",
       "        vertical-align: middle;\n",
       "    }\n",
       "\n",
       "    .dataframe tbody tr th {\n",
       "        vertical-align: top;\n",
       "    }\n",
       "\n",
       "    .dataframe thead th {\n",
       "        text-align: right;\n",
       "    }\n",
       "</style>\n",
       "<table border=\"1\" class=\"dataframe\">\n",
       "  <thead>\n",
       "    <tr style=\"text-align: right;\">\n",
       "      <th></th>\n",
       "      <th>Continent</th>\n",
       "      <th>Year</th>\n",
       "      <th>Schizophrenia</th>\n",
       "      <th>Bipolar</th>\n",
       "      <th>ED</th>\n",
       "      <th>Anxiety</th>\n",
       "      <th>Drugs</th>\n",
       "      <th>Depression</th>\n",
       "      <th>Alcohol</th>\n",
       "      <th>Dep_prev</th>\n",
       "      <th>Male_dep</th>\n",
       "      <th>Female_dep</th>\n",
       "      <th>Total_prev</th>\n",
       "    </tr>\n",
       "  </thead>\n",
       "  <tbody>\n",
       "    <tr>\n",
       "      <th>0</th>\n",
       "      <td>African Region (WHO)</td>\n",
       "      <td>1990</td>\n",
       "      <td>0.216352</td>\n",
       "      <td>0.581938</td>\n",
       "      <td>0.102983</td>\n",
       "      <td>3.537832</td>\n",
       "      <td>0.437110</td>\n",
       "      <td>4.725167</td>\n",
       "      <td>1.152445</td>\n",
       "      <td>4.725167</td>\n",
       "      <td>3.844021</td>\n",
       "      <td>5.576728</td>\n",
       "      <td>12.411191</td>\n",
       "    </tr>\n",
       "    <tr>\n",
       "      <th>1</th>\n",
       "      <td>African Region (WHO)</td>\n",
       "      <td>1991</td>\n",
       "      <td>0.216379</td>\n",
       "      <td>0.582026</td>\n",
       "      <td>0.102086</td>\n",
       "      <td>3.535734</td>\n",
       "      <td>0.440948</td>\n",
       "      <td>4.715682</td>\n",
       "      <td>1.152155</td>\n",
       "      <td>4.715682</td>\n",
       "      <td>3.836439</td>\n",
       "      <td>5.565375</td>\n",
       "      <td>12.413391</td>\n",
       "    </tr>\n",
       "    <tr>\n",
       "      <th>2</th>\n",
       "      <td>African Region (WHO)</td>\n",
       "      <td>1992</td>\n",
       "      <td>0.216394</td>\n",
       "      <td>0.582084</td>\n",
       "      <td>0.101291</td>\n",
       "      <td>3.533891</td>\n",
       "      <td>0.444273</td>\n",
       "      <td>4.706978</td>\n",
       "      <td>1.148381</td>\n",
       "      <td>4.706978</td>\n",
       "      <td>3.830065</td>\n",
       "      <td>5.554457</td>\n",
       "      <td>12.415239</td>\n",
       "    </tr>\n",
       "    <tr>\n",
       "      <th>3</th>\n",
       "      <td>African Region (WHO)</td>\n",
       "      <td>1993</td>\n",
       "      <td>0.216392</td>\n",
       "      <td>0.582137</td>\n",
       "      <td>0.100536</td>\n",
       "      <td>3.532413</td>\n",
       "      <td>0.446924</td>\n",
       "      <td>4.699633</td>\n",
       "      <td>1.143184</td>\n",
       "      <td>4.699633</td>\n",
       "      <td>3.825478</td>\n",
       "      <td>5.544718</td>\n",
       "      <td>12.417944</td>\n",
       "    </tr>\n",
       "    <tr>\n",
       "      <th>4</th>\n",
       "      <td>African Region (WHO)</td>\n",
       "      <td>1994</td>\n",
       "      <td>0.216365</td>\n",
       "      <td>0.582201</td>\n",
       "      <td>0.099860</td>\n",
       "      <td>3.531429</td>\n",
       "      <td>0.448519</td>\n",
       "      <td>4.696143</td>\n",
       "      <td>1.140921</td>\n",
       "      <td>4.696143</td>\n",
       "      <td>3.822731</td>\n",
       "      <td>5.540255</td>\n",
       "      <td>12.423707</td>\n",
       "    </tr>\n",
       "    <tr>\n",
       "      <th>...</th>\n",
       "      <td>...</td>\n",
       "      <td>...</td>\n",
       "      <td>...</td>\n",
       "      <td>...</td>\n",
       "      <td>...</td>\n",
       "      <td>...</td>\n",
       "      <td>...</td>\n",
       "      <td>...</td>\n",
       "      <td>...</td>\n",
       "      <td>...</td>\n",
       "      <td>...</td>\n",
       "      <td>...</td>\n",
       "      <td>...</td>\n",
       "    </tr>\n",
       "    <tr>\n",
       "      <th>175</th>\n",
       "      <td>Western Pacific Region (WHO)</td>\n",
       "      <td>2015</td>\n",
       "      <td>0.324890</td>\n",
       "      <td>0.272669</td>\n",
       "      <td>0.143719</td>\n",
       "      <td>3.349340</td>\n",
       "      <td>0.642979</td>\n",
       "      <td>2.870449</td>\n",
       "      <td>1.194855</td>\n",
       "      <td>2.870449</td>\n",
       "      <td>2.239629</td>\n",
       "      <td>3.484633</td>\n",
       "      <td>11.195751</td>\n",
       "    </tr>\n",
       "    <tr>\n",
       "      <th>176</th>\n",
       "      <td>Western Pacific Region (WHO)</td>\n",
       "      <td>2016</td>\n",
       "      <td>0.327911</td>\n",
       "      <td>0.272842</td>\n",
       "      <td>0.147809</td>\n",
       "      <td>3.394425</td>\n",
       "      <td>0.671333</td>\n",
       "      <td>2.870915</td>\n",
       "      <td>1.208224</td>\n",
       "      <td>2.870915</td>\n",
       "      <td>2.239556</td>\n",
       "      <td>3.485687</td>\n",
       "      <td>11.230811</td>\n",
       "    </tr>\n",
       "    <tr>\n",
       "      <th>177</th>\n",
       "      <td>Western Pacific Region (WHO)</td>\n",
       "      <td>2017</td>\n",
       "      <td>0.330952</td>\n",
       "      <td>0.272996</td>\n",
       "      <td>0.151235</td>\n",
       "      <td>3.442034</td>\n",
       "      <td>0.701439</td>\n",
       "      <td>2.870767</td>\n",
       "      <td>1.225461</td>\n",
       "      <td>2.870767</td>\n",
       "      <td>2.240424</td>\n",
       "      <td>3.484493</td>\n",
       "      <td>11.268919</td>\n",
       "    </tr>\n",
       "    <tr>\n",
       "      <th>178</th>\n",
       "      <td>Western Pacific Region (WHO)</td>\n",
       "      <td>2018</td>\n",
       "      <td>0.330982</td>\n",
       "      <td>0.273171</td>\n",
       "      <td>0.153276</td>\n",
       "      <td>3.441231</td>\n",
       "      <td>0.706279</td>\n",
       "      <td>2.870745</td>\n",
       "      <td>1.238534</td>\n",
       "      <td>2.870745</td>\n",
       "      <td>2.242757</td>\n",
       "      <td>3.481843</td>\n",
       "      <td>11.261979</td>\n",
       "    </tr>\n",
       "    <tr>\n",
       "      <th>179</th>\n",
       "      <td>Western Pacific Region (WHO)</td>\n",
       "      <td>2019</td>\n",
       "      <td>0.330344</td>\n",
       "      <td>0.273372</td>\n",
       "      <td>0.154662</td>\n",
       "      <td>3.414213</td>\n",
       "      <td>0.708363</td>\n",
       "      <td>2.866361</td>\n",
       "      <td>1.246875</td>\n",
       "      <td>2.866361</td>\n",
       "      <td>2.244455</td>\n",
       "      <td>3.470874</td>\n",
       "      <td>11.224930</td>\n",
       "    </tr>\n",
       "  </tbody>\n",
       "</table>\n",
       "<p>180 rows × 13 columns</p>\n",
       "</div>"
      ],
      "text/plain": [
       "                        Continent  Year  Schizophrenia   Bipolar        ED  \\\n",
       "0            African Region (WHO)  1990       0.216352  0.581938  0.102983   \n",
       "1            African Region (WHO)  1991       0.216379  0.582026  0.102086   \n",
       "2            African Region (WHO)  1992       0.216394  0.582084  0.101291   \n",
       "3            African Region (WHO)  1993       0.216392  0.582137  0.100536   \n",
       "4            African Region (WHO)  1994       0.216365  0.582201  0.099860   \n",
       "..                            ...   ...            ...       ...       ...   \n",
       "175  Western Pacific Region (WHO)  2015       0.324890  0.272669  0.143719   \n",
       "176  Western Pacific Region (WHO)  2016       0.327911  0.272842  0.147809   \n",
       "177  Western Pacific Region (WHO)  2017       0.330952  0.272996  0.151235   \n",
       "178  Western Pacific Region (WHO)  2018       0.330982  0.273171  0.153276   \n",
       "179  Western Pacific Region (WHO)  2019       0.330344  0.273372  0.154662   \n",
       "\n",
       "      Anxiety     Drugs  Depression   Alcohol  Dep_prev  Male_dep  Female_dep  \\\n",
       "0    3.537832  0.437110    4.725167  1.152445  4.725167  3.844021    5.576728   \n",
       "1    3.535734  0.440948    4.715682  1.152155  4.715682  3.836439    5.565375   \n",
       "2    3.533891  0.444273    4.706978  1.148381  4.706978  3.830065    5.554457   \n",
       "3    3.532413  0.446924    4.699633  1.143184  4.699633  3.825478    5.544718   \n",
       "4    3.531429  0.448519    4.696143  1.140921  4.696143  3.822731    5.540255   \n",
       "..        ...       ...         ...       ...       ...       ...         ...   \n",
       "175  3.349340  0.642979    2.870449  1.194855  2.870449  2.239629    3.484633   \n",
       "176  3.394425  0.671333    2.870915  1.208224  2.870915  2.239556    3.485687   \n",
       "177  3.442034  0.701439    2.870767  1.225461  2.870767  2.240424    3.484493   \n",
       "178  3.441231  0.706279    2.870745  1.238534  2.870745  2.242757    3.481843   \n",
       "179  3.414213  0.708363    2.866361  1.246875  2.866361  2.244455    3.470874   \n",
       "\n",
       "     Total_prev  \n",
       "0     12.411191  \n",
       "1     12.413391  \n",
       "2     12.415239  \n",
       "3     12.417944  \n",
       "4     12.423707  \n",
       "..          ...  \n",
       "175   11.195751  \n",
       "176   11.230811  \n",
       "177   11.268919  \n",
       "178   11.261979  \n",
       "179   11.224930  \n",
       "\n",
       "[180 rows x 13 columns]"
      ]
     },
     "execution_count": 4,
     "metadata": {},
     "output_type": "execute_result"
    }
   ],
   "source": [
    "df_cont"
   ]
  },
  {
   "cell_type": "code",
   "execution_count": 5,
   "metadata": {},
   "outputs": [
    {
     "ename": "NameError",
     "evalue": "name 'df_cont' is not defined",
     "output_type": "error",
     "traceback": [
      "\u001b[1;31m---------------------------------------------------------------------------\u001b[0m",
      "\u001b[1;31mNameError\u001b[0m                                 Traceback (most recent call last)",
      "\u001b[1;32m~\\AppData\\Local\\Temp\\ipykernel_10884\\1319673883.py\u001b[0m in \u001b[0;36m<module>\u001b[1;34m\u001b[0m\n\u001b[1;32m----> 1\u001b[1;33m \u001b[0mdf_cont\u001b[0m\u001b[1;33m\u001b[0m\u001b[1;33m\u001b[0m\u001b[0m\n\u001b[0m",
      "\u001b[1;31mNameError\u001b[0m: name 'df_cont' is not defined"
     ]
    }
   ],
   "source": [
    "df_cont "
   ]
  },
  {
   "cell_type": "code",
   "execution_count": 8,
   "metadata": {},
   "outputs": [],
   "source": [
    "plot_df = (df_cont\n",
    "               .groupby('Continent')\n",
    "               .mean()\n",
    "               .reset_index()\n",
    "               .drop(columns=['Year'])\n",
    "               .melt(id_vars='Continent')\n",
    "          )"
   ]
  },
  {
   "cell_type": "code",
   "execution_count": 9,
   "metadata": {},
   "outputs": [
    {
     "data": {
      "text/html": [
       "<div>\n",
       "<style scoped>\n",
       "    .dataframe tbody tr th:only-of-type {\n",
       "        vertical-align: middle;\n",
       "    }\n",
       "\n",
       "    .dataframe tbody tr th {\n",
       "        vertical-align: top;\n",
       "    }\n",
       "\n",
       "    .dataframe thead th {\n",
       "        text-align: right;\n",
       "    }\n",
       "</style>\n",
       "<table border=\"1\" class=\"dataframe\">\n",
       "  <thead>\n",
       "    <tr style=\"text-align: right;\">\n",
       "      <th></th>\n",
       "      <th>Continent</th>\n",
       "      <th>variable</th>\n",
       "      <th>value</th>\n",
       "    </tr>\n",
       "  </thead>\n",
       "  <tbody>\n",
       "    <tr>\n",
       "      <th>0</th>\n",
       "      <td>African Region (WHO)</td>\n",
       "      <td>Schizophrenia</td>\n",
       "      <td>0.217597</td>\n",
       "    </tr>\n",
       "    <tr>\n",
       "      <th>1</th>\n",
       "      <td>Eastern Mediterranean Region (WHO)</td>\n",
       "      <td>Schizophrenia</td>\n",
       "      <td>0.264002</td>\n",
       "    </tr>\n",
       "    <tr>\n",
       "      <th>2</th>\n",
       "      <td>European Region (WHO)</td>\n",
       "      <td>Schizophrenia</td>\n",
       "      <td>0.296587</td>\n",
       "    </tr>\n",
       "    <tr>\n",
       "      <th>3</th>\n",
       "      <td>Region of the Americas (WHO)</td>\n",
       "      <td>Schizophrenia</td>\n",
       "      <td>0.362365</td>\n",
       "    </tr>\n",
       "    <tr>\n",
       "      <th>4</th>\n",
       "      <td>South-East Asia Region (WHO)</td>\n",
       "      <td>Schizophrenia</td>\n",
       "      <td>0.287708</td>\n",
       "    </tr>\n",
       "    <tr>\n",
       "      <th>...</th>\n",
       "      <td>...</td>\n",
       "      <td>...</td>\n",
       "      <td>...</td>\n",
       "    </tr>\n",
       "    <tr>\n",
       "      <th>61</th>\n",
       "      <td>Eastern Mediterranean Region (WHO)</td>\n",
       "      <td>Total_prev</td>\n",
       "      <td>14.979485</td>\n",
       "    </tr>\n",
       "    <tr>\n",
       "      <th>62</th>\n",
       "      <td>European Region (WHO)</td>\n",
       "      <td>Total_prev</td>\n",
       "      <td>13.656202</td>\n",
       "    </tr>\n",
       "    <tr>\n",
       "      <th>63</th>\n",
       "      <td>Region of the Americas (WHO)</td>\n",
       "      <td>Total_prev</td>\n",
       "      <td>15.162011</td>\n",
       "    </tr>\n",
       "    <tr>\n",
       "      <th>64</th>\n",
       "      <td>South-East Asia Region (WHO)</td>\n",
       "      <td>Total_prev</td>\n",
       "      <td>13.352321</td>\n",
       "    </tr>\n",
       "    <tr>\n",
       "      <th>65</th>\n",
       "      <td>Western Pacific Region (WHO)</td>\n",
       "      <td>Total_prev</td>\n",
       "      <td>11.490809</td>\n",
       "    </tr>\n",
       "  </tbody>\n",
       "</table>\n",
       "<p>66 rows × 3 columns</p>\n",
       "</div>"
      ],
      "text/plain": [
       "                             Continent       variable      value\n",
       "0                 African Region (WHO)  Schizophrenia   0.217597\n",
       "1   Eastern Mediterranean Region (WHO)  Schizophrenia   0.264002\n",
       "2                European Region (WHO)  Schizophrenia   0.296587\n",
       "3         Region of the Americas (WHO)  Schizophrenia   0.362365\n",
       "4         South-East Asia Region (WHO)  Schizophrenia   0.287708\n",
       "..                                 ...            ...        ...\n",
       "61  Eastern Mediterranean Region (WHO)     Total_prev  14.979485\n",
       "62               European Region (WHO)     Total_prev  13.656202\n",
       "63        Region of the Americas (WHO)     Total_prev  15.162011\n",
       "64        South-East Asia Region (WHO)     Total_prev  13.352321\n",
       "65        Western Pacific Region (WHO)     Total_prev  11.490809\n",
       "\n",
       "[66 rows x 3 columns]"
      ]
     },
     "execution_count": 9,
     "metadata": {},
     "output_type": "execute_result"
    }
   ],
   "source": [
    "plot_df"
   ]
  },
  {
   "cell_type": "code",
   "execution_count": 38,
   "metadata": {},
   "outputs": [
    {
     "name": "stdout",
     "output_type": "stream",
     "text": [
      "Requirement already satisfied: kaleido in c:\\users\\celia\\appdata\\local\\programs\\python\\python37\\lib\\site-packages (0.2.1)\n",
      "Note: you may need to restart the kernel to use updated packages.\n"
     ]
    }
   ],
   "source": [
    "%pip install -U kaleido"
   ]
  },
  {
   "cell_type": "code",
   "execution_count": 5,
   "metadata": {},
   "outputs": [],
   "source": [
    "import os\n",
    "\n",
    "if not os.path.exists(\"images\"):\n",
    "    os.mkdir(\"images\")"
   ]
  },
  {
   "cell_type": "code",
   "execution_count": 184,
   "metadata": {},
   "outputs": [
    {
     "data": {
      "application/vnd.plotly.v1+json": {
       "config": {
        "plotlyServerURL": "https://plot.ly"
       },
       "data": [
        {
         "alignmentgroup": "True",
         "hovertemplate": "Continent=African Region (WHO)<br>variable=%{x}<br>value=%{y}<extra></extra>",
         "legendgroup": "African Region (WHO)",
         "marker": {
          "color": "#636efa",
          "pattern": {
           "shape": ""
          }
         },
         "name": "African Region (WHO)",
         "offsetgroup": "African Region (WHO)",
         "orientation": "v",
         "showlegend": true,
         "textposition": "auto",
         "type": "bar",
         "x": [
          "Schizophrenia",
          "Bipolar",
          "ED",
          "Anxiety",
          "Drugs",
          "Depression",
          "Alcohol",
          "Total_prev"
         ],
         "xaxis": "x",
         "y": [
          0.21759670335855094,
          0.5838243861383909,
          0.10341083971647633,
          3.5427387884591135,
          0.43185477508714665,
          4.689924571137256,
          1.1215007583873542,
          12.395002802578329
         ],
         "yaxis": "y"
        },
        {
         "alignmentgroup": "True",
         "hovertemplate": "Continent=Eastern Mediterranean Region (WHO)<br>variable=%{x}<br>value=%{y}<extra></extra>",
         "legendgroup": "Eastern Mediterranean Region (WHO)",
         "marker": {
          "color": "#EF553B",
          "pattern": {
           "shape": ""
          }
         },
         "name": "Eastern Mediterranean Region (WHO)",
         "offsetgroup": "Eastern Mediterranean Region (WHO)",
         "orientation": "v",
         "showlegend": true,
         "textposition": "auto",
         "type": "bar",
         "x": [
          "Schizophrenia",
          "Bipolar",
          "ED",
          "Anxiety",
          "Drugs",
          "Depression",
          "Alcohol",
          "Total_prev"
         ],
         "xaxis": "x",
         "y": [
          0.2640017403729013,
          0.67042094574956,
          0.16791871697169797,
          4.781594760198857,
          0.46763822954090994,
          4.399585591735505,
          0.6850475833157973,
          14.979484789630373
         ],
         "yaxis": "y"
        },
        {
         "alignmentgroup": "True",
         "hovertemplate": "Continent=European Region (WHO)<br>variable=%{x}<br>value=%{y}<extra></extra>",
         "legendgroup": "European Region (WHO)",
         "marker": {
          "color": "#00cc96",
          "pattern": {
           "shape": ""
          }
         },
         "name": "European Region (WHO)",
         "offsetgroup": "European Region (WHO)",
         "orientation": "v",
         "showlegend": true,
         "textposition": "auto",
         "type": "bar",
         "x": [
          "Schizophrenia",
          "Bipolar",
          "ED",
          "Anxiety",
          "Drugs",
          "Depression",
          "Alcohol",
          "Total_prev"
         ],
         "xaxis": "x",
         "y": [
          0.29658738430561266,
          0.7727598502647717,
          0.29609701792862364,
          4.59902890574209,
          1.0302009263423293,
          3.8326540028333578,
          2.4868990599138034,
          13.656202497688772
         ],
         "yaxis": "y"
        },
        {
         "alignmentgroup": "True",
         "hovertemplate": "Continent=Region of the Americas (WHO)<br>variable=%{x}<br>value=%{y}<extra></extra>",
         "legendgroup": "Region of the Americas (WHO)",
         "marker": {
          "color": "#ab63fa",
          "pattern": {
           "shape": ""
          }
         },
         "name": "Region of the Americas (WHO)",
         "offsetgroup": "Region of the Americas (WHO)",
         "orientation": "v",
         "showlegend": true,
         "textposition": "auto",
         "type": "bar",
         "x": [
          "Schizophrenia",
          "Bipolar",
          "ED",
          "Anxiety",
          "Drugs",
          "Depression",
          "Alcohol",
          "Total_prev"
         ],
         "xaxis": "x",
         "y": [
          0.3623653952215777,
          0.8829079764943096,
          0.31734381559376634,
          5.818165543436452,
          1.4855903781556596,
          3.9122659678143625,
          2.3480395276218218,
          15.16201050805689
         ],
         "yaxis": "y"
        },
        {
         "alignmentgroup": "True",
         "hovertemplate": "Continent=South-East Asia Region (WHO)<br>variable=%{x}<br>value=%{y}<extra></extra>",
         "legendgroup": "South-East Asia Region (WHO)",
         "marker": {
          "color": "#FFA15A",
          "pattern": {
           "shape": ""
          }
         },
         "name": "South-East Asia Region (WHO)",
         "offsetgroup": "South-East Asia Region (WHO)",
         "orientation": "v",
         "showlegend": true,
         "textposition": "auto",
         "type": "bar",
         "x": [
          "Schizophrenia",
          "Bipolar",
          "ED",
          "Anxiety",
          "Drugs",
          "Depression",
          "Alcohol",
          "Total_prev"
         ],
         "xaxis": "x",
         "y": [
          0.28770785339357663,
          0.35602265903002733,
          0.10091532144722999,
          3.103549084052031,
          0.46387685684915264,
          3.8374421322544996,
          1.25777570899427,
          13.352321406730361
         ],
         "yaxis": "y"
        },
        {
         "alignmentgroup": "True",
         "hovertemplate": "Continent=Western Pacific Region (WHO)<br>variable=%{x}<br>value=%{y}<extra></extra>",
         "legendgroup": "Western Pacific Region (WHO)",
         "marker": {
          "color": "#19d3f3",
          "pattern": {
           "shape": ""
          }
         },
         "name": "Western Pacific Region (WHO)",
         "offsetgroup": "Western Pacific Region (WHO)",
         "orientation": "v",
         "showlegend": true,
         "textposition": "auto",
         "type": "bar",
         "x": [
          "Schizophrenia",
          "Bipolar",
          "ED",
          "Anxiety",
          "Drugs",
          "Depression",
          "Alcohol",
          "Total_prev"
         ],
         "xaxis": "x",
         "y": [
          0.32120312784906163,
          0.2731646631956156,
          0.12322447922366299,
          3.516980101293269,
          0.6869943038365479,
          2.9321229703445866,
          1.227833308350332,
          11.490808868745878
         ],
         "yaxis": "y"
        }
       ],
       "layout": {
        "barmode": "group",
        "font": {
         "size": 14
        },
        "legend": {
         "title": {
          "text": "Continentes"
         },
         "tracegroupgap": 0
        },
        "template": {
         "data": {
          "bar": [
           {
            "error_x": {
             "color": "#2a3f5f"
            },
            "error_y": {
             "color": "#2a3f5f"
            },
            "marker": {
             "line": {
              "color": "#E5ECF6",
              "width": 0.5
             },
             "pattern": {
              "fillmode": "overlay",
              "size": 10,
              "solidity": 0.2
             }
            },
            "type": "bar"
           }
          ],
          "barpolar": [
           {
            "marker": {
             "line": {
              "color": "#E5ECF6",
              "width": 0.5
             },
             "pattern": {
              "fillmode": "overlay",
              "size": 10,
              "solidity": 0.2
             }
            },
            "type": "barpolar"
           }
          ],
          "carpet": [
           {
            "aaxis": {
             "endlinecolor": "#2a3f5f",
             "gridcolor": "white",
             "linecolor": "white",
             "minorgridcolor": "white",
             "startlinecolor": "#2a3f5f"
            },
            "baxis": {
             "endlinecolor": "#2a3f5f",
             "gridcolor": "white",
             "linecolor": "white",
             "minorgridcolor": "white",
             "startlinecolor": "#2a3f5f"
            },
            "type": "carpet"
           }
          ],
          "choropleth": [
           {
            "colorbar": {
             "outlinewidth": 0,
             "ticks": ""
            },
            "type": "choropleth"
           }
          ],
          "contour": [
           {
            "colorbar": {
             "outlinewidth": 0,
             "ticks": ""
            },
            "colorscale": [
             [
              0,
              "#0d0887"
             ],
             [
              0.1111111111111111,
              "#46039f"
             ],
             [
              0.2222222222222222,
              "#7201a8"
             ],
             [
              0.3333333333333333,
              "#9c179e"
             ],
             [
              0.4444444444444444,
              "#bd3786"
             ],
             [
              0.5555555555555556,
              "#d8576b"
             ],
             [
              0.6666666666666666,
              "#ed7953"
             ],
             [
              0.7777777777777778,
              "#fb9f3a"
             ],
             [
              0.8888888888888888,
              "#fdca26"
             ],
             [
              1,
              "#f0f921"
             ]
            ],
            "type": "contour"
           }
          ],
          "contourcarpet": [
           {
            "colorbar": {
             "outlinewidth": 0,
             "ticks": ""
            },
            "type": "contourcarpet"
           }
          ],
          "heatmap": [
           {
            "colorbar": {
             "outlinewidth": 0,
             "ticks": ""
            },
            "colorscale": [
             [
              0,
              "#0d0887"
             ],
             [
              0.1111111111111111,
              "#46039f"
             ],
             [
              0.2222222222222222,
              "#7201a8"
             ],
             [
              0.3333333333333333,
              "#9c179e"
             ],
             [
              0.4444444444444444,
              "#bd3786"
             ],
             [
              0.5555555555555556,
              "#d8576b"
             ],
             [
              0.6666666666666666,
              "#ed7953"
             ],
             [
              0.7777777777777778,
              "#fb9f3a"
             ],
             [
              0.8888888888888888,
              "#fdca26"
             ],
             [
              1,
              "#f0f921"
             ]
            ],
            "type": "heatmap"
           }
          ],
          "heatmapgl": [
           {
            "colorbar": {
             "outlinewidth": 0,
             "ticks": ""
            },
            "colorscale": [
             [
              0,
              "#0d0887"
             ],
             [
              0.1111111111111111,
              "#46039f"
             ],
             [
              0.2222222222222222,
              "#7201a8"
             ],
             [
              0.3333333333333333,
              "#9c179e"
             ],
             [
              0.4444444444444444,
              "#bd3786"
             ],
             [
              0.5555555555555556,
              "#d8576b"
             ],
             [
              0.6666666666666666,
              "#ed7953"
             ],
             [
              0.7777777777777778,
              "#fb9f3a"
             ],
             [
              0.8888888888888888,
              "#fdca26"
             ],
             [
              1,
              "#f0f921"
             ]
            ],
            "type": "heatmapgl"
           }
          ],
          "histogram": [
           {
            "marker": {
             "pattern": {
              "fillmode": "overlay",
              "size": 10,
              "solidity": 0.2
             }
            },
            "type": "histogram"
           }
          ],
          "histogram2d": [
           {
            "colorbar": {
             "outlinewidth": 0,
             "ticks": ""
            },
            "colorscale": [
             [
              0,
              "#0d0887"
             ],
             [
              0.1111111111111111,
              "#46039f"
             ],
             [
              0.2222222222222222,
              "#7201a8"
             ],
             [
              0.3333333333333333,
              "#9c179e"
             ],
             [
              0.4444444444444444,
              "#bd3786"
             ],
             [
              0.5555555555555556,
              "#d8576b"
             ],
             [
              0.6666666666666666,
              "#ed7953"
             ],
             [
              0.7777777777777778,
              "#fb9f3a"
             ],
             [
              0.8888888888888888,
              "#fdca26"
             ],
             [
              1,
              "#f0f921"
             ]
            ],
            "type": "histogram2d"
           }
          ],
          "histogram2dcontour": [
           {
            "colorbar": {
             "outlinewidth": 0,
             "ticks": ""
            },
            "colorscale": [
             [
              0,
              "#0d0887"
             ],
             [
              0.1111111111111111,
              "#46039f"
             ],
             [
              0.2222222222222222,
              "#7201a8"
             ],
             [
              0.3333333333333333,
              "#9c179e"
             ],
             [
              0.4444444444444444,
              "#bd3786"
             ],
             [
              0.5555555555555556,
              "#d8576b"
             ],
             [
              0.6666666666666666,
              "#ed7953"
             ],
             [
              0.7777777777777778,
              "#fb9f3a"
             ],
             [
              0.8888888888888888,
              "#fdca26"
             ],
             [
              1,
              "#f0f921"
             ]
            ],
            "type": "histogram2dcontour"
           }
          ],
          "mesh3d": [
           {
            "colorbar": {
             "outlinewidth": 0,
             "ticks": ""
            },
            "type": "mesh3d"
           }
          ],
          "parcoords": [
           {
            "line": {
             "colorbar": {
              "outlinewidth": 0,
              "ticks": ""
             }
            },
            "type": "parcoords"
           }
          ],
          "pie": [
           {
            "automargin": true,
            "type": "pie"
           }
          ],
          "scatter": [
           {
            "fillpattern": {
             "fillmode": "overlay",
             "size": 10,
             "solidity": 0.2
            },
            "type": "scatter"
           }
          ],
          "scatter3d": [
           {
            "line": {
             "colorbar": {
              "outlinewidth": 0,
              "ticks": ""
             }
            },
            "marker": {
             "colorbar": {
              "outlinewidth": 0,
              "ticks": ""
             }
            },
            "type": "scatter3d"
           }
          ],
          "scattercarpet": [
           {
            "marker": {
             "colorbar": {
              "outlinewidth": 0,
              "ticks": ""
             }
            },
            "type": "scattercarpet"
           }
          ],
          "scattergeo": [
           {
            "marker": {
             "colorbar": {
              "outlinewidth": 0,
              "ticks": ""
             }
            },
            "type": "scattergeo"
           }
          ],
          "scattergl": [
           {
            "marker": {
             "colorbar": {
              "outlinewidth": 0,
              "ticks": ""
             }
            },
            "type": "scattergl"
           }
          ],
          "scattermapbox": [
           {
            "marker": {
             "colorbar": {
              "outlinewidth": 0,
              "ticks": ""
             }
            },
            "type": "scattermapbox"
           }
          ],
          "scatterpolar": [
           {
            "marker": {
             "colorbar": {
              "outlinewidth": 0,
              "ticks": ""
             }
            },
            "type": "scatterpolar"
           }
          ],
          "scatterpolargl": [
           {
            "marker": {
             "colorbar": {
              "outlinewidth": 0,
              "ticks": ""
             }
            },
            "type": "scatterpolargl"
           }
          ],
          "scatterternary": [
           {
            "marker": {
             "colorbar": {
              "outlinewidth": 0,
              "ticks": ""
             }
            },
            "type": "scatterternary"
           }
          ],
          "surface": [
           {
            "colorbar": {
             "outlinewidth": 0,
             "ticks": ""
            },
            "colorscale": [
             [
              0,
              "#0d0887"
             ],
             [
              0.1111111111111111,
              "#46039f"
             ],
             [
              0.2222222222222222,
              "#7201a8"
             ],
             [
              0.3333333333333333,
              "#9c179e"
             ],
             [
              0.4444444444444444,
              "#bd3786"
             ],
             [
              0.5555555555555556,
              "#d8576b"
             ],
             [
              0.6666666666666666,
              "#ed7953"
             ],
             [
              0.7777777777777778,
              "#fb9f3a"
             ],
             [
              0.8888888888888888,
              "#fdca26"
             ],
             [
              1,
              "#f0f921"
             ]
            ],
            "type": "surface"
           }
          ],
          "table": [
           {
            "cells": {
             "fill": {
              "color": "#EBF0F8"
             },
             "line": {
              "color": "white"
             }
            },
            "header": {
             "fill": {
              "color": "#C8D4E3"
             },
             "line": {
              "color": "white"
             }
            },
            "type": "table"
           }
          ]
         },
         "layout": {
          "annotationdefaults": {
           "arrowcolor": "#2a3f5f",
           "arrowhead": 0,
           "arrowwidth": 1
          },
          "autotypenumbers": "strict",
          "coloraxis": {
           "colorbar": {
            "outlinewidth": 0,
            "ticks": ""
           }
          },
          "colorscale": {
           "diverging": [
            [
             0,
             "#8e0152"
            ],
            [
             0.1,
             "#c51b7d"
            ],
            [
             0.2,
             "#de77ae"
            ],
            [
             0.3,
             "#f1b6da"
            ],
            [
             0.4,
             "#fde0ef"
            ],
            [
             0.5,
             "#f7f7f7"
            ],
            [
             0.6,
             "#e6f5d0"
            ],
            [
             0.7,
             "#b8e186"
            ],
            [
             0.8,
             "#7fbc41"
            ],
            [
             0.9,
             "#4d9221"
            ],
            [
             1,
             "#276419"
            ]
           ],
           "sequential": [
            [
             0,
             "#0d0887"
            ],
            [
             0.1111111111111111,
             "#46039f"
            ],
            [
             0.2222222222222222,
             "#7201a8"
            ],
            [
             0.3333333333333333,
             "#9c179e"
            ],
            [
             0.4444444444444444,
             "#bd3786"
            ],
            [
             0.5555555555555556,
             "#d8576b"
            ],
            [
             0.6666666666666666,
             "#ed7953"
            ],
            [
             0.7777777777777778,
             "#fb9f3a"
            ],
            [
             0.8888888888888888,
             "#fdca26"
            ],
            [
             1,
             "#f0f921"
            ]
           ],
           "sequentialminus": [
            [
             0,
             "#0d0887"
            ],
            [
             0.1111111111111111,
             "#46039f"
            ],
            [
             0.2222222222222222,
             "#7201a8"
            ],
            [
             0.3333333333333333,
             "#9c179e"
            ],
            [
             0.4444444444444444,
             "#bd3786"
            ],
            [
             0.5555555555555556,
             "#d8576b"
            ],
            [
             0.6666666666666666,
             "#ed7953"
            ],
            [
             0.7777777777777778,
             "#fb9f3a"
            ],
            [
             0.8888888888888888,
             "#fdca26"
            ],
            [
             1,
             "#f0f921"
            ]
           ]
          },
          "colorway": [
           "#636efa",
           "#EF553B",
           "#00cc96",
           "#ab63fa",
           "#FFA15A",
           "#19d3f3",
           "#FF6692",
           "#B6E880",
           "#FF97FF",
           "#FECB52"
          ],
          "font": {
           "color": "#2a3f5f"
          },
          "geo": {
           "bgcolor": "white",
           "lakecolor": "white",
           "landcolor": "#E5ECF6",
           "showlakes": true,
           "showland": true,
           "subunitcolor": "white"
          },
          "hoverlabel": {
           "align": "left"
          },
          "hovermode": "closest",
          "mapbox": {
           "style": "light"
          },
          "paper_bgcolor": "white",
          "plot_bgcolor": "#E5ECF6",
          "polar": {
           "angularaxis": {
            "gridcolor": "white",
            "linecolor": "white",
            "ticks": ""
           },
           "bgcolor": "#E5ECF6",
           "radialaxis": {
            "gridcolor": "white",
            "linecolor": "white",
            "ticks": ""
           }
          },
          "scene": {
           "xaxis": {
            "backgroundcolor": "#E5ECF6",
            "gridcolor": "white",
            "gridwidth": 2,
            "linecolor": "white",
            "showbackground": true,
            "ticks": "",
            "zerolinecolor": "white"
           },
           "yaxis": {
            "backgroundcolor": "#E5ECF6",
            "gridcolor": "white",
            "gridwidth": 2,
            "linecolor": "white",
            "showbackground": true,
            "ticks": "",
            "zerolinecolor": "white"
           },
           "zaxis": {
            "backgroundcolor": "#E5ECF6",
            "gridcolor": "white",
            "gridwidth": 2,
            "linecolor": "white",
            "showbackground": true,
            "ticks": "",
            "zerolinecolor": "white"
           }
          },
          "shapedefaults": {
           "line": {
            "color": "#2a3f5f"
           }
          },
          "ternary": {
           "aaxis": {
            "gridcolor": "white",
            "linecolor": "white",
            "ticks": ""
           },
           "baxis": {
            "gridcolor": "white",
            "linecolor": "white",
            "ticks": ""
           },
           "bgcolor": "#E5ECF6",
           "caxis": {
            "gridcolor": "white",
            "linecolor": "white",
            "ticks": ""
           }
          },
          "title": {
           "x": 0.05
          },
          "xaxis": {
           "automargin": true,
           "gridcolor": "white",
           "linecolor": "white",
           "ticks": "",
           "title": {
            "standoff": 15
           },
           "zerolinecolor": "white",
           "zerolinewidth": 2
          },
          "yaxis": {
           "automargin": true,
           "gridcolor": "white",
           "linecolor": "white",
           "ticks": "",
           "title": {
            "standoff": 15
           },
           "zerolinecolor": "white",
           "zerolinewidth": 2
          }
         }
        },
        "title": {
         "text": "Salud mental por continentes"
        },
        "xaxis": {
         "anchor": "y",
         "domain": [
          0,
          1
         ],
         "title": {
          "text": ""
         }
        },
        "yaxis": {
         "anchor": "x",
         "domain": [
          0,
          1
         ],
         "title": {
          "text": "Prevalencia en %"
         }
        }
       }
      }
     },
     "metadata": {},
     "output_type": "display_data"
    },
    {
     "ename": "TypeError",
     "evalue": "write_image() got an unexpected keyword argument 'bbox_inches'",
     "output_type": "error",
     "traceback": [
      "\u001b[1;31m---------------------------------------------------------------------------\u001b[0m",
      "\u001b[1;31mTypeError\u001b[0m                                 Traceback (most recent call last)",
      "\u001b[1;32m~\\AppData\\Local\\Temp\\ipykernel_4416\\966751892.py\u001b[0m in \u001b[0;36m<module>\u001b[1;34m\u001b[0m\n\u001b[0;32m     20\u001b[0m \u001b[0mfig\u001b[0m\u001b[1;33m.\u001b[0m\u001b[0mshow\u001b[0m\u001b[1;33m(\u001b[0m\u001b[1;33m)\u001b[0m\u001b[1;33m\u001b[0m\u001b[1;33m\u001b[0m\u001b[0m\n\u001b[0;32m     21\u001b[0m \u001b[1;33m\u001b[0m\u001b[0m\n\u001b[1;32m---> 22\u001b[1;33m \u001b[0mfig\u001b[0m\u001b[1;33m.\u001b[0m\u001b[0mwrite_image\u001b[0m\u001b[1;33m(\u001b[0m\u001b[1;34m\"images/fig1.png\"\u001b[0m\u001b[1;33m,\u001b[0m \u001b[0mbbox_inches\u001b[0m\u001b[1;33m=\u001b[0m\u001b[1;34m'tight'\u001b[0m\u001b[1;33m)\u001b[0m\u001b[1;33m\u001b[0m\u001b[1;33m\u001b[0m\u001b[0m\n\u001b[0m",
      "\u001b[1;32mc:\\Users\\Celia\\AppData\\Local\\Programs\\Python\\Python37\\lib\\site-packages\\plotly\\basedatatypes.py\u001b[0m in \u001b[0;36mwrite_image\u001b[1;34m(self, *args, **kwargs)\u001b[0m\n\u001b[0;32m   3827\u001b[0m         \u001b[1;32mimport\u001b[0m \u001b[0mplotly\u001b[0m\u001b[1;33m.\u001b[0m\u001b[0mio\u001b[0m \u001b[1;32mas\u001b[0m \u001b[0mpio\u001b[0m\u001b[1;33m\u001b[0m\u001b[1;33m\u001b[0m\u001b[0m\n\u001b[0;32m   3828\u001b[0m \u001b[1;33m\u001b[0m\u001b[0m\n\u001b[1;32m-> 3829\u001b[1;33m         \u001b[1;32mreturn\u001b[0m \u001b[0mpio\u001b[0m\u001b[1;33m.\u001b[0m\u001b[0mwrite_image\u001b[0m\u001b[1;33m(\u001b[0m\u001b[0mself\u001b[0m\u001b[1;33m,\u001b[0m \u001b[1;33m*\u001b[0m\u001b[0margs\u001b[0m\u001b[1;33m,\u001b[0m \u001b[1;33m**\u001b[0m\u001b[0mkwargs\u001b[0m\u001b[1;33m)\u001b[0m\u001b[1;33m\u001b[0m\u001b[1;33m\u001b[0m\u001b[0m\n\u001b[0m\u001b[0;32m   3830\u001b[0m \u001b[1;33m\u001b[0m\u001b[0m\n\u001b[0;32m   3831\u001b[0m     \u001b[1;31m# Static helpers\u001b[0m\u001b[1;33m\u001b[0m\u001b[1;33m\u001b[0m\u001b[1;33m\u001b[0m\u001b[0m\n",
      "\u001b[1;31mTypeError\u001b[0m: write_image() got an unexpected keyword argument 'bbox_inches'"
     ]
    }
   ],
   "source": [
    "plot_df = (df_cont\n",
    "               .groupby('Continent')\n",
    "               .mean()\n",
    "               .reset_index()\n",
    "               .drop(columns=['Year', 'Dep_prev', 'Male_dep', 'Female_dep'])\n",
    "               .melt(id_vars='Continent')\n",
    "          )\n",
    "\n",
    "\n",
    "fig = px.bar(plot_df, x='variable', y='value',\n",
    "             color='Continent', barmode='group',\n",
    "             title='Salud mental por continentes')\n",
    "\n",
    "fig.update_layout(    \n",
    "    yaxis_title='Prevalencia en %',\n",
    "    xaxis_title='',\n",
    "    legend_title='Continentes',\n",
    "    font_size=14,\n",
    ")\n",
    "fig.show()\n",
    "\n",
    "fig.write_image(\"images/fig1.png\", bbox_inches='tight')\n"
   ]
  },
  {
   "cell_type": "code",
   "execution_count": 56,
   "metadata": {},
   "outputs": [
    {
     "data": {
      "text/html": [
       "<div>\n",
       "<style scoped>\n",
       "    .dataframe tbody tr th:only-of-type {\n",
       "        vertical-align: middle;\n",
       "    }\n",
       "\n",
       "    .dataframe tbody tr th {\n",
       "        vertical-align: top;\n",
       "    }\n",
       "\n",
       "    .dataframe thead th {\n",
       "        text-align: right;\n",
       "    }\n",
       "</style>\n",
       "<table border=\"1\" class=\"dataframe\">\n",
       "  <thead>\n",
       "    <tr style=\"text-align: right;\">\n",
       "      <th></th>\n",
       "      <th>Country</th>\n",
       "      <th>Year</th>\n",
       "      <th>Schizophrenia</th>\n",
       "      <th>Bipolar</th>\n",
       "      <th>ED</th>\n",
       "      <th>Anxiety</th>\n",
       "      <th>Drugs</th>\n",
       "      <th>Depression</th>\n",
       "      <th>Alcohol</th>\n",
       "    </tr>\n",
       "  </thead>\n",
       "  <tbody>\n",
       "    <tr>\n",
       "      <th>0</th>\n",
       "      <td>Afghanistan</td>\n",
       "      <td>1990</td>\n",
       "      <td>0.228979</td>\n",
       "      <td>0.721207</td>\n",
       "      <td>0.131001</td>\n",
       "      <td>4.835127</td>\n",
       "      <td>0.454202</td>\n",
       "      <td>5.125291</td>\n",
       "      <td>0.444036</td>\n",
       "    </tr>\n",
       "    <tr>\n",
       "      <th>1</th>\n",
       "      <td>Afghanistan</td>\n",
       "      <td>1991</td>\n",
       "      <td>0.228120</td>\n",
       "      <td>0.719952</td>\n",
       "      <td>0.126395</td>\n",
       "      <td>4.821765</td>\n",
       "      <td>0.447112</td>\n",
       "      <td>5.116306</td>\n",
       "      <td>0.444250</td>\n",
       "    </tr>\n",
       "    <tr>\n",
       "      <th>2</th>\n",
       "      <td>Afghanistan</td>\n",
       "      <td>1992</td>\n",
       "      <td>0.227328</td>\n",
       "      <td>0.718418</td>\n",
       "      <td>0.121832</td>\n",
       "      <td>4.801434</td>\n",
       "      <td>0.441190</td>\n",
       "      <td>5.106558</td>\n",
       "      <td>0.445501</td>\n",
       "    </tr>\n",
       "    <tr>\n",
       "      <th>3</th>\n",
       "      <td>Afghanistan</td>\n",
       "      <td>1993</td>\n",
       "      <td>0.226468</td>\n",
       "      <td>0.717452</td>\n",
       "      <td>0.117942</td>\n",
       "      <td>4.789363</td>\n",
       "      <td>0.435581</td>\n",
       "      <td>5.100328</td>\n",
       "      <td>0.445958</td>\n",
       "    </tr>\n",
       "    <tr>\n",
       "      <th>4</th>\n",
       "      <td>Afghanistan</td>\n",
       "      <td>1994</td>\n",
       "      <td>0.225567</td>\n",
       "      <td>0.717012</td>\n",
       "      <td>0.114547</td>\n",
       "      <td>4.784923</td>\n",
       "      <td>0.431822</td>\n",
       "      <td>5.099424</td>\n",
       "      <td>0.445779</td>\n",
       "    </tr>\n",
       "    <tr>\n",
       "      <th>...</th>\n",
       "      <td>...</td>\n",
       "      <td>...</td>\n",
       "      <td>...</td>\n",
       "      <td>...</td>\n",
       "      <td>...</td>\n",
       "      <td>...</td>\n",
       "      <td>...</td>\n",
       "      <td>...</td>\n",
       "      <td>...</td>\n",
       "    </tr>\n",
       "    <tr>\n",
       "      <th>6835</th>\n",
       "      <td>Zimbabwe</td>\n",
       "      <td>2015</td>\n",
       "      <td>0.209359</td>\n",
       "      <td>0.560882</td>\n",
       "      <td>0.099610</td>\n",
       "      <td>3.315701</td>\n",
       "      <td>0.599604</td>\n",
       "      <td>3.548613</td>\n",
       "      <td>1.734969</td>\n",
       "    </tr>\n",
       "    <tr>\n",
       "      <th>6836</th>\n",
       "      <td>Zimbabwe</td>\n",
       "      <td>2016</td>\n",
       "      <td>0.209979</td>\n",
       "      <td>0.561768</td>\n",
       "      <td>0.100821</td>\n",
       "      <td>3.324230</td>\n",
       "      <td>0.603658</td>\n",
       "      <td>3.557508</td>\n",
       "      <td>1.689281</td>\n",
       "    </tr>\n",
       "    <tr>\n",
       "      <th>6837</th>\n",
       "      <td>Zimbabwe</td>\n",
       "      <td>2017</td>\n",
       "      <td>0.210631</td>\n",
       "      <td>0.562612</td>\n",
       "      <td>0.101671</td>\n",
       "      <td>3.330569</td>\n",
       "      <td>0.608096</td>\n",
       "      <td>3.564138</td>\n",
       "      <td>1.651805</td>\n",
       "    </tr>\n",
       "    <tr>\n",
       "      <th>6838</th>\n",
       "      <td>Zimbabwe</td>\n",
       "      <td>2018</td>\n",
       "      <td>0.211237</td>\n",
       "      <td>0.563283</td>\n",
       "      <td>0.102398</td>\n",
       "      <td>3.317500</td>\n",
       "      <td>0.609065</td>\n",
       "      <td>3.563141</td>\n",
       "      <td>1.686711</td>\n",
       "    </tr>\n",
       "    <tr>\n",
       "      <th>6839</th>\n",
       "      <td>Zimbabwe</td>\n",
       "      <td>2019</td>\n",
       "      <td>0.211969</td>\n",
       "      <td>0.563820</td>\n",
       "      <td>0.102902</td>\n",
       "      <td>3.283934</td>\n",
       "      <td>0.610644</td>\n",
       "      <td>3.554571</td>\n",
       "      <td>1.776729</td>\n",
       "    </tr>\n",
       "  </tbody>\n",
       "</table>\n",
       "<p>6840 rows × 9 columns</p>\n",
       "</div>"
      ],
      "text/plain": [
       "          Country  Year  Schizophrenia   Bipolar        ED   Anxiety  \\\n",
       "0     Afghanistan  1990       0.228979  0.721207  0.131001  4.835127   \n",
       "1     Afghanistan  1991       0.228120  0.719952  0.126395  4.821765   \n",
       "2     Afghanistan  1992       0.227328  0.718418  0.121832  4.801434   \n",
       "3     Afghanistan  1993       0.226468  0.717452  0.117942  4.789363   \n",
       "4     Afghanistan  1994       0.225567  0.717012  0.114547  4.784923   \n",
       "...           ...   ...            ...       ...       ...       ...   \n",
       "6835     Zimbabwe  2015       0.209359  0.560882  0.099610  3.315701   \n",
       "6836     Zimbabwe  2016       0.209979  0.561768  0.100821  3.324230   \n",
       "6837     Zimbabwe  2017       0.210631  0.562612  0.101671  3.330569   \n",
       "6838     Zimbabwe  2018       0.211237  0.563283  0.102398  3.317500   \n",
       "6839     Zimbabwe  2019       0.211969  0.563820  0.102902  3.283934   \n",
       "\n",
       "         Drugs  Depression   Alcohol  \n",
       "0     0.454202    5.125291  0.444036  \n",
       "1     0.447112    5.116306  0.444250  \n",
       "2     0.441190    5.106558  0.445501  \n",
       "3     0.435581    5.100328  0.445958  \n",
       "4     0.431822    5.099424  0.445779  \n",
       "...        ...         ...       ...  \n",
       "6835  0.599604    3.548613  1.734969  \n",
       "6836  0.603658    3.557508  1.689281  \n",
       "6837  0.608096    3.564138  1.651805  \n",
       "6838  0.609065    3.563141  1.686711  \n",
       "6839  0.610644    3.554571  1.776729  \n",
       "\n",
       "[6840 rows x 9 columns]"
      ]
     },
     "execution_count": 56,
     "metadata": {},
     "output_type": "execute_result"
    }
   ],
   "source": [
    "disorders"
   ]
  },
  {
   "cell_type": "code",
   "execution_count": 12,
   "metadata": {},
   "outputs": [
    {
     "data": {
      "application/vnd.plotly.v1+json": {
       "config": {
        "plotlyServerURL": "https://plot.ly"
       },
       "data": [
        {
         "hovertemplate": "disorder=Schizophrenia<br>Year=%{x}<br>share=%{y}<extra></extra>",
         "legendgroup": "Schizophrenia",
         "line": {
          "color": "#636efa",
          "dash": "solid"
         },
         "marker": {
          "symbol": "circle"
         },
         "mode": "markers+lines",
         "name": "Schizophrenia",
         "orientation": "v",
         "showlegend": true,
         "type": "scatter",
         "x": [
          1990,
          1991,
          1992,
          1993,
          1994,
          1995,
          1996,
          1997,
          1998,
          1999,
          2000,
          2001,
          2002,
          2003,
          2004,
          2005,
          2006,
          2007,
          2008,
          2009,
          2010,
          2011,
          2012,
          2013,
          2014,
          2015,
          2016,
          2017,
          2018,
          2019
         ],
         "xaxis": "x",
         "y": [
          63.39903053787559,
          63.44193681206563,
          63.48230192131645,
          63.51902655019322,
          63.55011160908818,
          63.57307770440543,
          63.58821474162163,
          63.599791013882026,
          63.61272940888108,
          63.631190599491994,
          63.661401857968976,
          63.72619889320278,
          63.83041174707188,
          63.950069145330936,
          64.06087439754326,
          64.13720943820468,
          64.19710932778766,
          64.27034222577667,
          64.34678656942336,
          64.4156908133805,
          64.46759909898299,
          64.52005959814373,
          64.59010032294655,
          64.66452677334803,
          64.73139623738615,
          64.77785849275183,
          64.82912999410526,
          64.87767441676266,
          64.8808888072328,
          64.85184760773174
         ],
         "yaxis": "y"
        },
        {
         "hovertemplate": "disorder=Bipolar<br>Year=%{x}<br>share=%{y}<extra></extra>",
         "legendgroup": "Bipolar",
         "line": {
          "color": "#EF553B",
          "dash": "solid"
         },
         "marker": {
          "symbol": "circle"
         },
         "mode": "markers+lines",
         "name": "Bipolar",
         "orientation": "v",
         "showlegend": true,
         "type": "scatter",
         "x": [
          1990,
          1991,
          1992,
          1993,
          1994,
          1995,
          1996,
          1997,
          1998,
          1999,
          2000,
          2001,
          2002,
          2003,
          2004,
          2005,
          2006,
          2007,
          2008,
          2009,
          2010,
          2011,
          2012,
          2013,
          2014,
          2015,
          2016,
          2017,
          2018,
          2019
         ],
         "xaxis": "x",
         "y": [
          152.3744361180067,
          152.43806623382298,
          152.50620343552123,
          152.57531757337398,
          152.64475433518462,
          152.70957093409484,
          152.77012601449172,
          152.83290249782888,
          152.8986305885931,
          152.96635645648718,
          153.0329368991998,
          153.1569496195498,
          153.36508122784966,
          153.60266563759885,
          153.8136422116126,
          153.93918700633472,
          154.00123696629376,
          154.06971169001903,
          154.14284848531815,
          154.216481730379,
          154.27985126793203,
          154.33805292457865,
          154.40149608402672,
          154.47068382996943,
          154.53683109273746,
          154.59152002631652,
          154.6369535298807,
          154.6819316312983,
          154.7064452716787,
          154.7120505777437
         ],
         "yaxis": "y"
        },
        {
         "hovertemplate": "disorder=ED<br>Year=%{x}<br>share=%{y}<extra></extra>",
         "legendgroup": "ED",
         "line": {
          "color": "#00cc96",
          "dash": "solid"
         },
         "marker": {
          "symbol": "circle"
         },
         "mode": "markers+lines",
         "name": "ED",
         "orientation": "v",
         "showlegend": true,
         "type": "scatter",
         "x": [
          1990,
          1991,
          1992,
          1993,
          1994,
          1995,
          1996,
          1997,
          1998,
          1999,
          2000,
          2001,
          2002,
          2003,
          2004,
          2005,
          2006,
          2007,
          2008,
          2009,
          2010,
          2011,
          2012,
          2013,
          2014,
          2015,
          2016,
          2017,
          2018,
          2019
         ],
         "xaxis": "x",
         "y": [
          44.53059720096306,
          44.59174812240979,
          44.67530577772469,
          44.772533729038116,
          44.88185062614162,
          44.991628410453494,
          45.12837992167689,
          45.30740457797047,
          45.515266493052074,
          45.75244412363128,
          45.99998064666744,
          46.32603212652867,
          46.74732304907911,
          47.2213370454709,
          47.68173999926243,
          48.07467956854162,
          48.44557270101329,
          48.8783115358628,
          49.33572360957444,
          49.76013782400393,
          50.11845309120106,
          50.418209553998956,
          50.708380255022604,
          50.985086933270054,
          51.271094131757614,
          51.564095083380224,
          52.0197537556425,
          52.430982056639145,
          52.66548792783791,
          52.862004462958694
         ],
         "yaxis": "y"
        },
        {
         "hovertemplate": "disorder=Anxiety<br>Year=%{x}<br>share=%{y}<extra></extra>",
         "legendgroup": "Anxiety",
         "line": {
          "color": "#ab63fa",
          "dash": "solid"
         },
         "marker": {
          "symbol": "circle"
         },
         "mode": "markers+lines",
         "name": "Anxiety",
         "orientation": "v",
         "showlegend": true,
         "type": "scatter",
         "x": [
          1990,
          1991,
          1992,
          1993,
          1994,
          1995,
          1996,
          1997,
          1998,
          1999,
          2000,
          2001,
          2002,
          2003,
          2004,
          2005,
          2006,
          2007,
          2008,
          2009,
          2010,
          2011,
          2012,
          2013,
          2014,
          2015,
          2016,
          2017,
          2018,
          2019
         ],
         "xaxis": "x",
         "y": [
          969.9337515045981,
          970.4015670517803,
          970.9127379991212,
          971.4244830559187,
          971.9317348693403,
          972.3434108682749,
          973.3537007212128,
          975.3801030593476,
          977.8574828624123,
          980.2016610536044,
          981.7472427068143,
          982.51805401196,
          983.0706442308671,
          983.525180540647,
          983.9640368944966,
          984.4322423187916,
          985.7576734353772,
          988.3340313574824,
          991.4445691628384,
          994.3288678365954,
          996.1467149531421,
          997.1971732799036,
          998.3279295001269,
          999.5651557951993,
          1000.7879561891069,
          1001.8623039456294,
          1002.4853745422326,
          1002.8783042924355,
          1003.5637846873549,
          1004.5919043148414
         ],
         "yaxis": "y"
        },
        {
         "hovertemplate": "disorder=Drugs<br>Year=%{x}<br>share=%{y}<extra></extra>",
         "legendgroup": "Drugs",
         "line": {
          "color": "#FFA15A",
          "dash": "solid"
         },
         "marker": {
          "symbol": "circle"
         },
         "mode": "markers+lines",
         "name": "Drugs",
         "orientation": "v",
         "showlegend": true,
         "type": "scatter",
         "x": [
          1990,
          1991,
          1992,
          1993,
          1994,
          1995,
          1996,
          1997,
          1998,
          1999,
          2000,
          2001,
          2002,
          2003,
          2004,
          2005,
          2006,
          2007,
          2008,
          2009,
          2010,
          2011,
          2012,
          2013,
          2014,
          2015,
          2016,
          2017,
          2018,
          2019
         ],
         "xaxis": "x",
         "y": [
          158.52272965946688,
          159.88412611382572,
          161.1511182731012,
          162.31267951533044,
          163.28374906727367,
          164.0636489704952,
          164.72122302722235,
          165.3749782259069,
          166.03574792056332,
          166.68580073536813,
          167.35485340962944,
          168.20724940450853,
          169.3344769262136,
          170.5326868026229,
          171.6250365954875,
          172.46386601600042,
          173.02867002426532,
          173.49199963738027,
          173.8728449419608,
          174.23902545305788,
          174.62887778501252,
          174.96406514343317,
          175.1912163691276,
          175.38291674468695,
          175.6436833314038,
          176.03035494916105,
          177.083654073404,
          178.02645178533052,
          177.73777863054408,
          176.60648960632065
         ],
         "yaxis": "y"
        },
        {
         "hovertemplate": "disorder=Depression<br>Year=%{x}<br>share=%{y}<extra></extra>",
         "legendgroup": "Depression",
         "line": {
          "color": "#19d3f3",
          "dash": "solid"
         },
         "marker": {
          "symbol": "circle"
         },
         "mode": "markers+lines",
         "name": "Depression",
         "orientation": "v",
         "showlegend": true,
         "type": "scatter",
         "x": [
          1990,
          1991,
          1992,
          1993,
          1994,
          1995,
          1996,
          1997,
          1998,
          1999,
          2000,
          2001,
          2002,
          2003,
          2004,
          2005,
          2006,
          2007,
          2008,
          2009,
          2010,
          2011,
          2012,
          2013,
          2014,
          2015,
          2016,
          2017,
          2018,
          2019
         ],
         "xaxis": "x",
         "y": [
          906.624793653395,
          906.5612583533017,
          906.5829368429735,
          906.6473378878761,
          906.806794660187,
          907.0283171025625,
          907.6455753140825,
          908.8474202304537,
          910.1598713837906,
          911.1549421171793,
          911.3610512347803,
          910.7810827770659,
          909.769488033582,
          908.4733702493965,
          907.0368147865237,
          905.6074362549684,
          903.3534698667975,
          899.8790263961732,
          896.1287826216137,
          892.9251903031628,
          891.0511138794325,
          890.2831627972189,
          889.6614063452296,
          889.2721046452689,
          889.0300229187004,
          888.9966804882288,
          888.8697278905821,
          888.904503739885,
          889.9125637511053,
          891.7130269361444
         ],
         "yaxis": "y"
        },
        {
         "hovertemplate": "disorder=Alcohol<br>Year=%{x}<br>share=%{y}<extra></extra>",
         "legendgroup": "Alcohol",
         "line": {
          "color": "#FF6692",
          "dash": "solid"
         },
         "marker": {
          "symbol": "circle"
         },
         "mode": "markers+lines",
         "name": "Alcohol",
         "orientation": "v",
         "showlegend": true,
         "type": "scatter",
         "x": [
          1990,
          1991,
          1992,
          1993,
          1994,
          1995,
          1996,
          1997,
          1998,
          1999,
          2000,
          2001,
          2002,
          2003,
          2004,
          2005,
          2006,
          2007,
          2008,
          2009,
          2010,
          2011,
          2012,
          2013,
          2014,
          2015,
          2016,
          2017,
          2018,
          2019
         ],
         "xaxis": "x",
         "y": [
          357.63795368008215,
          357.6968574130379,
          357.9011081304531,
          358.26645517852046,
          358.7082045961211,
          359.27235687820433,
          360.499423986915,
          362.44987900213175,
          364.53544139824004,
          366.1823307306992,
          366.8303551498783,
          366.2006782628505,
          364.7319920268251,
          362.92626624656197,
          361.2790332049345,
          360.29691449154296,
          360.0794430697543,
          360.2355535015353,
          360.5375381809357,
          360.76731503953107,
          360.735445489652,
          360.3873064596642,
          359.8894642237517,
          359.2630176063185,
          358.5937560385299,
          357.9498275028991,
          354.809864563513,
          352.10278167386525,
          352.929907544495,
          355.34452049000555
         ],
         "yaxis": "y"
        }
       ],
       "layout": {
        "font": {
         "size": 18
        },
        "legend": {
         "title": {
          "text": "Trastornos mentales"
         },
         "tracegroupgap": 0
        },
        "template": {
         "data": {
          "bar": [
           {
            "error_x": {
             "color": "#2a3f5f"
            },
            "error_y": {
             "color": "#2a3f5f"
            },
            "marker": {
             "line": {
              "color": "#E5ECF6",
              "width": 0.5
             },
             "pattern": {
              "fillmode": "overlay",
              "size": 10,
              "solidity": 0.2
             }
            },
            "type": "bar"
           }
          ],
          "barpolar": [
           {
            "marker": {
             "line": {
              "color": "#E5ECF6",
              "width": 0.5
             },
             "pattern": {
              "fillmode": "overlay",
              "size": 10,
              "solidity": 0.2
             }
            },
            "type": "barpolar"
           }
          ],
          "carpet": [
           {
            "aaxis": {
             "endlinecolor": "#2a3f5f",
             "gridcolor": "white",
             "linecolor": "white",
             "minorgridcolor": "white",
             "startlinecolor": "#2a3f5f"
            },
            "baxis": {
             "endlinecolor": "#2a3f5f",
             "gridcolor": "white",
             "linecolor": "white",
             "minorgridcolor": "white",
             "startlinecolor": "#2a3f5f"
            },
            "type": "carpet"
           }
          ],
          "choropleth": [
           {
            "colorbar": {
             "outlinewidth": 0,
             "ticks": ""
            },
            "type": "choropleth"
           }
          ],
          "contour": [
           {
            "colorbar": {
             "outlinewidth": 0,
             "ticks": ""
            },
            "colorscale": [
             [
              0,
              "#0d0887"
             ],
             [
              0.1111111111111111,
              "#46039f"
             ],
             [
              0.2222222222222222,
              "#7201a8"
             ],
             [
              0.3333333333333333,
              "#9c179e"
             ],
             [
              0.4444444444444444,
              "#bd3786"
             ],
             [
              0.5555555555555556,
              "#d8576b"
             ],
             [
              0.6666666666666666,
              "#ed7953"
             ],
             [
              0.7777777777777778,
              "#fb9f3a"
             ],
             [
              0.8888888888888888,
              "#fdca26"
             ],
             [
              1,
              "#f0f921"
             ]
            ],
            "type": "contour"
           }
          ],
          "contourcarpet": [
           {
            "colorbar": {
             "outlinewidth": 0,
             "ticks": ""
            },
            "type": "contourcarpet"
           }
          ],
          "heatmap": [
           {
            "colorbar": {
             "outlinewidth": 0,
             "ticks": ""
            },
            "colorscale": [
             [
              0,
              "#0d0887"
             ],
             [
              0.1111111111111111,
              "#46039f"
             ],
             [
              0.2222222222222222,
              "#7201a8"
             ],
             [
              0.3333333333333333,
              "#9c179e"
             ],
             [
              0.4444444444444444,
              "#bd3786"
             ],
             [
              0.5555555555555556,
              "#d8576b"
             ],
             [
              0.6666666666666666,
              "#ed7953"
             ],
             [
              0.7777777777777778,
              "#fb9f3a"
             ],
             [
              0.8888888888888888,
              "#fdca26"
             ],
             [
              1,
              "#f0f921"
             ]
            ],
            "type": "heatmap"
           }
          ],
          "heatmapgl": [
           {
            "colorbar": {
             "outlinewidth": 0,
             "ticks": ""
            },
            "colorscale": [
             [
              0,
              "#0d0887"
             ],
             [
              0.1111111111111111,
              "#46039f"
             ],
             [
              0.2222222222222222,
              "#7201a8"
             ],
             [
              0.3333333333333333,
              "#9c179e"
             ],
             [
              0.4444444444444444,
              "#bd3786"
             ],
             [
              0.5555555555555556,
              "#d8576b"
             ],
             [
              0.6666666666666666,
              "#ed7953"
             ],
             [
              0.7777777777777778,
              "#fb9f3a"
             ],
             [
              0.8888888888888888,
              "#fdca26"
             ],
             [
              1,
              "#f0f921"
             ]
            ],
            "type": "heatmapgl"
           }
          ],
          "histogram": [
           {
            "marker": {
             "pattern": {
              "fillmode": "overlay",
              "size": 10,
              "solidity": 0.2
             }
            },
            "type": "histogram"
           }
          ],
          "histogram2d": [
           {
            "colorbar": {
             "outlinewidth": 0,
             "ticks": ""
            },
            "colorscale": [
             [
              0,
              "#0d0887"
             ],
             [
              0.1111111111111111,
              "#46039f"
             ],
             [
              0.2222222222222222,
              "#7201a8"
             ],
             [
              0.3333333333333333,
              "#9c179e"
             ],
             [
              0.4444444444444444,
              "#bd3786"
             ],
             [
              0.5555555555555556,
              "#d8576b"
             ],
             [
              0.6666666666666666,
              "#ed7953"
             ],
             [
              0.7777777777777778,
              "#fb9f3a"
             ],
             [
              0.8888888888888888,
              "#fdca26"
             ],
             [
              1,
              "#f0f921"
             ]
            ],
            "type": "histogram2d"
           }
          ],
          "histogram2dcontour": [
           {
            "colorbar": {
             "outlinewidth": 0,
             "ticks": ""
            },
            "colorscale": [
             [
              0,
              "#0d0887"
             ],
             [
              0.1111111111111111,
              "#46039f"
             ],
             [
              0.2222222222222222,
              "#7201a8"
             ],
             [
              0.3333333333333333,
              "#9c179e"
             ],
             [
              0.4444444444444444,
              "#bd3786"
             ],
             [
              0.5555555555555556,
              "#d8576b"
             ],
             [
              0.6666666666666666,
              "#ed7953"
             ],
             [
              0.7777777777777778,
              "#fb9f3a"
             ],
             [
              0.8888888888888888,
              "#fdca26"
             ],
             [
              1,
              "#f0f921"
             ]
            ],
            "type": "histogram2dcontour"
           }
          ],
          "mesh3d": [
           {
            "colorbar": {
             "outlinewidth": 0,
             "ticks": ""
            },
            "type": "mesh3d"
           }
          ],
          "parcoords": [
           {
            "line": {
             "colorbar": {
              "outlinewidth": 0,
              "ticks": ""
             }
            },
            "type": "parcoords"
           }
          ],
          "pie": [
           {
            "automargin": true,
            "type": "pie"
           }
          ],
          "scatter": [
           {
            "fillpattern": {
             "fillmode": "overlay",
             "size": 10,
             "solidity": 0.2
            },
            "type": "scatter"
           }
          ],
          "scatter3d": [
           {
            "line": {
             "colorbar": {
              "outlinewidth": 0,
              "ticks": ""
             }
            },
            "marker": {
             "colorbar": {
              "outlinewidth": 0,
              "ticks": ""
             }
            },
            "type": "scatter3d"
           }
          ],
          "scattercarpet": [
           {
            "marker": {
             "colorbar": {
              "outlinewidth": 0,
              "ticks": ""
             }
            },
            "type": "scattercarpet"
           }
          ],
          "scattergeo": [
           {
            "marker": {
             "colorbar": {
              "outlinewidth": 0,
              "ticks": ""
             }
            },
            "type": "scattergeo"
           }
          ],
          "scattergl": [
           {
            "marker": {
             "colorbar": {
              "outlinewidth": 0,
              "ticks": ""
             }
            },
            "type": "scattergl"
           }
          ],
          "scattermapbox": [
           {
            "marker": {
             "colorbar": {
              "outlinewidth": 0,
              "ticks": ""
             }
            },
            "type": "scattermapbox"
           }
          ],
          "scatterpolar": [
           {
            "marker": {
             "colorbar": {
              "outlinewidth": 0,
              "ticks": ""
             }
            },
            "type": "scatterpolar"
           }
          ],
          "scatterpolargl": [
           {
            "marker": {
             "colorbar": {
              "outlinewidth": 0,
              "ticks": ""
             }
            },
            "type": "scatterpolargl"
           }
          ],
          "scatterternary": [
           {
            "marker": {
             "colorbar": {
              "outlinewidth": 0,
              "ticks": ""
             }
            },
            "type": "scatterternary"
           }
          ],
          "surface": [
           {
            "colorbar": {
             "outlinewidth": 0,
             "ticks": ""
            },
            "colorscale": [
             [
              0,
              "#0d0887"
             ],
             [
              0.1111111111111111,
              "#46039f"
             ],
             [
              0.2222222222222222,
              "#7201a8"
             ],
             [
              0.3333333333333333,
              "#9c179e"
             ],
             [
              0.4444444444444444,
              "#bd3786"
             ],
             [
              0.5555555555555556,
              "#d8576b"
             ],
             [
              0.6666666666666666,
              "#ed7953"
             ],
             [
              0.7777777777777778,
              "#fb9f3a"
             ],
             [
              0.8888888888888888,
              "#fdca26"
             ],
             [
              1,
              "#f0f921"
             ]
            ],
            "type": "surface"
           }
          ],
          "table": [
           {
            "cells": {
             "fill": {
              "color": "#EBF0F8"
             },
             "line": {
              "color": "white"
             }
            },
            "header": {
             "fill": {
              "color": "#C8D4E3"
             },
             "line": {
              "color": "white"
             }
            },
            "type": "table"
           }
          ]
         },
         "layout": {
          "annotationdefaults": {
           "arrowcolor": "#2a3f5f",
           "arrowhead": 0,
           "arrowwidth": 1
          },
          "autotypenumbers": "strict",
          "coloraxis": {
           "colorbar": {
            "outlinewidth": 0,
            "ticks": ""
           }
          },
          "colorscale": {
           "diverging": [
            [
             0,
             "#8e0152"
            ],
            [
             0.1,
             "#c51b7d"
            ],
            [
             0.2,
             "#de77ae"
            ],
            [
             0.3,
             "#f1b6da"
            ],
            [
             0.4,
             "#fde0ef"
            ],
            [
             0.5,
             "#f7f7f7"
            ],
            [
             0.6,
             "#e6f5d0"
            ],
            [
             0.7,
             "#b8e186"
            ],
            [
             0.8,
             "#7fbc41"
            ],
            [
             0.9,
             "#4d9221"
            ],
            [
             1,
             "#276419"
            ]
           ],
           "sequential": [
            [
             0,
             "#0d0887"
            ],
            [
             0.1111111111111111,
             "#46039f"
            ],
            [
             0.2222222222222222,
             "#7201a8"
            ],
            [
             0.3333333333333333,
             "#9c179e"
            ],
            [
             0.4444444444444444,
             "#bd3786"
            ],
            [
             0.5555555555555556,
             "#d8576b"
            ],
            [
             0.6666666666666666,
             "#ed7953"
            ],
            [
             0.7777777777777778,
             "#fb9f3a"
            ],
            [
             0.8888888888888888,
             "#fdca26"
            ],
            [
             1,
             "#f0f921"
            ]
           ],
           "sequentialminus": [
            [
             0,
             "#0d0887"
            ],
            [
             0.1111111111111111,
             "#46039f"
            ],
            [
             0.2222222222222222,
             "#7201a8"
            ],
            [
             0.3333333333333333,
             "#9c179e"
            ],
            [
             0.4444444444444444,
             "#bd3786"
            ],
            [
             0.5555555555555556,
             "#d8576b"
            ],
            [
             0.6666666666666666,
             "#ed7953"
            ],
            [
             0.7777777777777778,
             "#fb9f3a"
            ],
            [
             0.8888888888888888,
             "#fdca26"
            ],
            [
             1,
             "#f0f921"
            ]
           ]
          },
          "colorway": [
           "#636efa",
           "#EF553B",
           "#00cc96",
           "#ab63fa",
           "#FFA15A",
           "#19d3f3",
           "#FF6692",
           "#B6E880",
           "#FF97FF",
           "#FECB52"
          ],
          "font": {
           "color": "#2a3f5f"
          },
          "geo": {
           "bgcolor": "white",
           "lakecolor": "white",
           "landcolor": "#E5ECF6",
           "showlakes": true,
           "showland": true,
           "subunitcolor": "white"
          },
          "hoverlabel": {
           "align": "left"
          },
          "hovermode": "closest",
          "mapbox": {
           "style": "light"
          },
          "paper_bgcolor": "white",
          "plot_bgcolor": "#E5ECF6",
          "polar": {
           "angularaxis": {
            "gridcolor": "white",
            "linecolor": "white",
            "ticks": ""
           },
           "bgcolor": "#E5ECF6",
           "radialaxis": {
            "gridcolor": "white",
            "linecolor": "white",
            "ticks": ""
           }
          },
          "scene": {
           "xaxis": {
            "backgroundcolor": "#E5ECF6",
            "gridcolor": "white",
            "gridwidth": 2,
            "linecolor": "white",
            "showbackground": true,
            "ticks": "",
            "zerolinecolor": "white"
           },
           "yaxis": {
            "backgroundcolor": "#E5ECF6",
            "gridcolor": "white",
            "gridwidth": 2,
            "linecolor": "white",
            "showbackground": true,
            "ticks": "",
            "zerolinecolor": "white"
           },
           "zaxis": {
            "backgroundcolor": "#E5ECF6",
            "gridcolor": "white",
            "gridwidth": 2,
            "linecolor": "white",
            "showbackground": true,
            "ticks": "",
            "zerolinecolor": "white"
           }
          },
          "shapedefaults": {
           "line": {
            "color": "#2a3f5f"
           }
          },
          "ternary": {
           "aaxis": {
            "gridcolor": "white",
            "linecolor": "white",
            "ticks": ""
           },
           "baxis": {
            "gridcolor": "white",
            "linecolor": "white",
            "ticks": ""
           },
           "bgcolor": "#E5ECF6",
           "caxis": {
            "gridcolor": "white",
            "linecolor": "white",
            "ticks": ""
           }
          },
          "title": {
           "x": 0.05
          },
          "xaxis": {
           "automargin": true,
           "gridcolor": "white",
           "linecolor": "white",
           "ticks": "",
           "title": {
            "standoff": 15
           },
           "zerolinecolor": "white",
           "zerolinewidth": 2
          },
          "yaxis": {
           "automargin": true,
           "gridcolor": "white",
           "linecolor": "white",
           "ticks": "",
           "title": {
            "standoff": 15
           },
           "zerolinecolor": "white",
           "zerolinewidth": 2
          }
         }
        },
        "title": {
         "text": "Salud mental a lo largo del tiempo"
        },
        "xaxis": {
         "anchor": "y",
         "domain": [
          0,
          1
         ],
         "title": {
          "text": "Año"
         }
        },
        "yaxis": {
         "anchor": "x",
         "domain": [
          0,
          1
         ],
         "title": {
          "text": "Prevalencia en %"
         }
        }
       }
      }
     },
     "metadata": {},
     "output_type": "display_data"
    }
   ],
   "source": [
    "\n",
    "disorders_year = (disorders\n",
    "     .groupby('Year')\n",
    "     .sum()\n",
    "     .reset_index()\n",
    ")\n",
    "disorders_year = (disorders_year\n",
    "                        .melt(id_vars='Year')\n",
    "                        .rename(columns={'variable':'disorder', 'value':'share'})\n",
    "                )\n",
    "\n",
    "fig = px.line(disorders_year, x='Year', y='share', color='disorder', markers=True,\n",
    "             title=\"Salud mental a lo largo del tiempo\")\n",
    "\n",
    "fig.update_layout(    \n",
    "    yaxis_title=\"Prevalencia en %\",\n",
    "    xaxis_title=\"Año\",\n",
    "    legend_title='Trastornos mentales',\n",
    "    font_size=18,\n",
    ")\n",
    "fig.show()\n",
    "fig.write_image(\"images/fig2.png\")\n"
   ]
  },
  {
   "cell_type": "code",
   "execution_count": 76,
   "metadata": {},
   "outputs": [
    {
     "data": {
      "text/html": [
       "<div>\n",
       "<style scoped>\n",
       "    .dataframe tbody tr th:only-of-type {\n",
       "        vertical-align: middle;\n",
       "    }\n",
       "\n",
       "    .dataframe tbody tr th {\n",
       "        vertical-align: top;\n",
       "    }\n",
       "\n",
       "    .dataframe thead th {\n",
       "        text-align: right;\n",
       "    }\n",
       "</style>\n",
       "<table border=\"1\" class=\"dataframe\">\n",
       "  <thead>\n",
       "    <tr style=\"text-align: right;\">\n",
       "      <th></th>\n",
       "      <th>Income</th>\n",
       "      <th>Year</th>\n",
       "      <th>Schizophrenia</th>\n",
       "      <th>Bipolar</th>\n",
       "      <th>ED</th>\n",
       "      <th>Anxiety</th>\n",
       "      <th>Drugs</th>\n",
       "      <th>Depression</th>\n",
       "      <th>Alcohol</th>\n",
       "      <th>Dep_prev</th>\n",
       "      <th>Male_dep</th>\n",
       "      <th>Female_dep</th>\n",
       "      <th>Total_prev</th>\n",
       "    </tr>\n",
       "  </thead>\n",
       "  <tbody>\n",
       "    <tr>\n",
       "      <th>0</th>\n",
       "      <td>World Bank High Income</td>\n",
       "      <td>1990</td>\n",
       "      <td>0.349837</td>\n",
       "      <td>0.786395</td>\n",
       "      <td>0.390832</td>\n",
       "      <td>5.080294</td>\n",
       "      <td>1.377799</td>\n",
       "      <td>3.728780</td>\n",
       "      <td>2.238104</td>\n",
       "      <td>3.728780</td>\n",
       "      <td>2.910869</td>\n",
       "      <td>4.491153</td>\n",
       "      <td>14.357230</td>\n",
       "    </tr>\n",
       "    <tr>\n",
       "      <th>1</th>\n",
       "      <td>World Bank High Income</td>\n",
       "      <td>1991</td>\n",
       "      <td>0.351302</td>\n",
       "      <td>0.787030</td>\n",
       "      <td>0.397064</td>\n",
       "      <td>5.081799</td>\n",
       "      <td>1.394368</td>\n",
       "      <td>3.743666</td>\n",
       "      <td>2.219053</td>\n",
       "      <td>3.743666</td>\n",
       "      <td>2.919939</td>\n",
       "      <td>4.512909</td>\n",
       "      <td>14.387759</td>\n",
       "    </tr>\n",
       "    <tr>\n",
       "      <th>2</th>\n",
       "      <td>World Bank High Income</td>\n",
       "      <td>1992</td>\n",
       "      <td>0.352642</td>\n",
       "      <td>0.787801</td>\n",
       "      <td>0.402772</td>\n",
       "      <td>5.084536</td>\n",
       "      <td>1.410451</td>\n",
       "      <td>3.761546</td>\n",
       "      <td>2.199737</td>\n",
       "      <td>3.761546</td>\n",
       "      <td>2.931513</td>\n",
       "      <td>4.537947</td>\n",
       "      <td>14.421124</td>\n",
       "    </tr>\n",
       "    <tr>\n",
       "      <th>3</th>\n",
       "      <td>World Bank High Income</td>\n",
       "      <td>1993</td>\n",
       "      <td>0.353803</td>\n",
       "      <td>0.788598</td>\n",
       "      <td>0.407782</td>\n",
       "      <td>5.087854</td>\n",
       "      <td>1.425537</td>\n",
       "      <td>3.781520</td>\n",
       "      <td>2.181322</td>\n",
       "      <td>3.781520</td>\n",
       "      <td>2.945393</td>\n",
       "      <td>4.564693</td>\n",
       "      <td>14.455324</td>\n",
       "    </tr>\n",
       "    <tr>\n",
       "      <th>4</th>\n",
       "      <td>World Bank High Income</td>\n",
       "      <td>1994</td>\n",
       "      <td>0.354764</td>\n",
       "      <td>0.789333</td>\n",
       "      <td>0.411640</td>\n",
       "      <td>5.091523</td>\n",
       "      <td>1.438795</td>\n",
       "      <td>3.802907</td>\n",
       "      <td>2.164989</td>\n",
       "      <td>3.802907</td>\n",
       "      <td>2.961282</td>\n",
       "      <td>4.592139</td>\n",
       "      <td>14.488410</td>\n",
       "    </tr>\n",
       "    <tr>\n",
       "      <th>...</th>\n",
       "      <td>...</td>\n",
       "      <td>...</td>\n",
       "      <td>...</td>\n",
       "      <td>...</td>\n",
       "      <td>...</td>\n",
       "      <td>...</td>\n",
       "      <td>...</td>\n",
       "      <td>...</td>\n",
       "      <td>...</td>\n",
       "      <td>...</td>\n",
       "      <td>...</td>\n",
       "      <td>...</td>\n",
       "      <td>...</td>\n",
       "    </tr>\n",
       "    <tr>\n",
       "      <th>115</th>\n",
       "      <td>World Bank Upper Middle Income</td>\n",
       "      <td>2015</td>\n",
       "      <td>0.308526</td>\n",
       "      <td>0.475078</td>\n",
       "      <td>0.164308</td>\n",
       "      <td>4.093712</td>\n",
       "      <td>0.706593</td>\n",
       "      <td>3.329720</td>\n",
       "      <td>1.514542</td>\n",
       "      <td>3.329720</td>\n",
       "      <td>2.555914</td>\n",
       "      <td>4.066753</td>\n",
       "      <td>12.436956</td>\n",
       "    </tr>\n",
       "    <tr>\n",
       "      <th>116</th>\n",
       "      <td>World Bank Upper Middle Income</td>\n",
       "      <td>2016</td>\n",
       "      <td>0.310809</td>\n",
       "      <td>0.477434</td>\n",
       "      <td>0.168254</td>\n",
       "      <td>4.138800</td>\n",
       "      <td>0.725803</td>\n",
       "      <td>3.331579</td>\n",
       "      <td>1.511265</td>\n",
       "      <td>3.331579</td>\n",
       "      <td>2.559298</td>\n",
       "      <td>4.067300</td>\n",
       "      <td>12.481145</td>\n",
       "    </tr>\n",
       "    <tr>\n",
       "      <th>117</th>\n",
       "      <td>World Bank Upper Middle Income</td>\n",
       "      <td>2017</td>\n",
       "      <td>0.313086</td>\n",
       "      <td>0.479685</td>\n",
       "      <td>0.171563</td>\n",
       "      <td>4.185851</td>\n",
       "      <td>0.746686</td>\n",
       "      <td>3.332059</td>\n",
       "      <td>1.511673</td>\n",
       "      <td>3.332059</td>\n",
       "      <td>2.562882</td>\n",
       "      <td>4.064821</td>\n",
       "      <td>12.525723</td>\n",
       "    </tr>\n",
       "    <tr>\n",
       "      <th>118</th>\n",
       "      <td>World Bank Upper Middle Income</td>\n",
       "      <td>2018</td>\n",
       "      <td>0.312974</td>\n",
       "      <td>0.481878</td>\n",
       "      <td>0.173578</td>\n",
       "      <td>4.192571</td>\n",
       "      <td>0.748686</td>\n",
       "      <td>3.330413</td>\n",
       "      <td>1.517199</td>\n",
       "      <td>3.330413</td>\n",
       "      <td>2.564021</td>\n",
       "      <td>4.060546</td>\n",
       "      <td>12.526063</td>\n",
       "    </tr>\n",
       "    <tr>\n",
       "      <th>119</th>\n",
       "      <td>World Bank Upper Middle Income</td>\n",
       "      <td>2019</td>\n",
       "      <td>0.312283</td>\n",
       "      <td>0.484107</td>\n",
       "      <td>0.175025</td>\n",
       "      <td>4.181423</td>\n",
       "      <td>0.747494</td>\n",
       "      <td>3.322933</td>\n",
       "      <td>1.520577</td>\n",
       "      <td>3.322933</td>\n",
       "      <td>2.562366</td>\n",
       "      <td>4.047404</td>\n",
       "      <td>12.500398</td>\n",
       "    </tr>\n",
       "  </tbody>\n",
       "</table>\n",
       "<p>120 rows × 13 columns</p>\n",
       "</div>"
      ],
      "text/plain": [
       "                             Income  Year  Schizophrenia   Bipolar        ED  \\\n",
       "0            World Bank High Income  1990       0.349837  0.786395  0.390832   \n",
       "1            World Bank High Income  1991       0.351302  0.787030  0.397064   \n",
       "2            World Bank High Income  1992       0.352642  0.787801  0.402772   \n",
       "3            World Bank High Income  1993       0.353803  0.788598  0.407782   \n",
       "4            World Bank High Income  1994       0.354764  0.789333  0.411640   \n",
       "..                              ...   ...            ...       ...       ...   \n",
       "115  World Bank Upper Middle Income  2015       0.308526  0.475078  0.164308   \n",
       "116  World Bank Upper Middle Income  2016       0.310809  0.477434  0.168254   \n",
       "117  World Bank Upper Middle Income  2017       0.313086  0.479685  0.171563   \n",
       "118  World Bank Upper Middle Income  2018       0.312974  0.481878  0.173578   \n",
       "119  World Bank Upper Middle Income  2019       0.312283  0.484107  0.175025   \n",
       "\n",
       "      Anxiety     Drugs  Depression   Alcohol  Dep_prev  Male_dep  Female_dep  \\\n",
       "0    5.080294  1.377799    3.728780  2.238104  3.728780  2.910869    4.491153   \n",
       "1    5.081799  1.394368    3.743666  2.219053  3.743666  2.919939    4.512909   \n",
       "2    5.084536  1.410451    3.761546  2.199737  3.761546  2.931513    4.537947   \n",
       "3    5.087854  1.425537    3.781520  2.181322  3.781520  2.945393    4.564693   \n",
       "4    5.091523  1.438795    3.802907  2.164989  3.802907  2.961282    4.592139   \n",
       "..        ...       ...         ...       ...       ...       ...         ...   \n",
       "115  4.093712  0.706593    3.329720  1.514542  3.329720  2.555914    4.066753   \n",
       "116  4.138800  0.725803    3.331579  1.511265  3.331579  2.559298    4.067300   \n",
       "117  4.185851  0.746686    3.332059  1.511673  3.332059  2.562882    4.064821   \n",
       "118  4.192571  0.748686    3.330413  1.517199  3.330413  2.564021    4.060546   \n",
       "119  4.181423  0.747494    3.322933  1.520577  3.322933  2.562366    4.047404   \n",
       "\n",
       "     Total_prev  \n",
       "0     14.357230  \n",
       "1     14.387759  \n",
       "2     14.421124  \n",
       "3     14.455324  \n",
       "4     14.488410  \n",
       "..          ...  \n",
       "115   12.436956  \n",
       "116   12.481145  \n",
       "117   12.525723  \n",
       "118   12.526063  \n",
       "119   12.500398  \n",
       "\n",
       "[120 rows x 13 columns]"
      ]
     },
     "execution_count": 76,
     "metadata": {},
     "output_type": "execute_result"
    }
   ],
   "source": [
    "df_inc"
   ]
  },
  {
   "cell_type": "code",
   "execution_count": 186,
   "metadata": {},
   "outputs": [],
   "source": [
    "a = disorders.corr()\n",
    "a.drop(columns='Year', inplace=True)"
   ]
  },
  {
   "cell_type": "code",
   "execution_count": 187,
   "metadata": {},
   "outputs": [
    {
     "data": {
      "image/png": "[encoded data removed]",
      "text/plain": [
       "<Figure size 640x480 with 2 Axes>"
      ]
     },
     "metadata": {},
     "output_type": "display_data"
    }
   ],
   "source": [
    "axis_labels = ['Esquizofrenia', 'Bipolar', 'TCA', 'Ansiedad', 'Drogas', 'Depresión', 'Alcohol'] # labels for x-axis\n",
    "ax = plt.axes()\n",
    "ax.set_title('Correlación entre trastornos mentales')\n",
    "plt.xticks(rotation=-45);\n",
    "\n",
    "heatmap = sns.heatmap(a[1:], ax=ax, xticklabels=axis_labels, yticklabels=axis_labels, annot=True)\n",
    "plt.show()\n",
    "fig = heatmap.get_figure()\n",
    "fig.savefig(\"images/fig3.png\", bbox_inches='tight')\n"
   ]
  },
  {
   "cell_type": "code",
   "execution_count": 34,
   "metadata": {},
   "outputs": [],
   "source": [
    "df_inc = pd.merge(a_inc, b_inc)\n",
    "df_inc = pd.merge(df_inc, c_inc)\n",
    "df_inc = pd.merge(df_inc, d_inc)\n"
   ]
  },
  {
   "cell_type": "code",
   "execution_count": 58,
   "metadata": {},
   "outputs": [
    {
     "data": {
      "text/html": [
       "<div>\n",
       "<style scoped>\n",
       "    .dataframe tbody tr th:only-of-type {\n",
       "        vertical-align: middle;\n",
       "    }\n",
       "\n",
       "    .dataframe tbody tr th {\n",
       "        vertical-align: top;\n",
       "    }\n",
       "\n",
       "    .dataframe thead th {\n",
       "        text-align: right;\n",
       "    }\n",
       "</style>\n",
       "<table border=\"1\" class=\"dataframe\">\n",
       "  <thead>\n",
       "    <tr style=\"text-align: right;\">\n",
       "      <th></th>\n",
       "      <th>Country</th>\n",
       "      <th>Year</th>\n",
       "      <th>Male_total</th>\n",
       "      <th>Female_total</th>\n",
       "    </tr>\n",
       "  </thead>\n",
       "  <tbody>\n",
       "    <tr>\n",
       "      <th>1</th>\n",
       "      <td>Afghanistan</td>\n",
       "      <td>1990</td>\n",
       "      <td>17.448695</td>\n",
       "      <td>17.634233</td>\n",
       "    </tr>\n",
       "    <tr>\n",
       "      <th>2</th>\n",
       "      <td>Afghanistan</td>\n",
       "      <td>1991</td>\n",
       "      <td>17.771263</td>\n",
       "      <td>17.873184</td>\n",
       "    </tr>\n",
       "    <tr>\n",
       "      <th>3</th>\n",
       "      <td>Afghanistan</td>\n",
       "      <td>1992</td>\n",
       "      <td>18.051575</td>\n",
       "      <td>18.092318</td>\n",
       "    </tr>\n",
       "    <tr>\n",
       "      <th>4</th>\n",
       "      <td>Afghanistan</td>\n",
       "      <td>1993</td>\n",
       "      <td>18.275848</td>\n",
       "      <td>18.265196</td>\n",
       "    </tr>\n",
       "    <tr>\n",
       "      <th>5</th>\n",
       "      <td>Afghanistan</td>\n",
       "      <td>1994</td>\n",
       "      <td>18.427490</td>\n",
       "      <td>18.383394</td>\n",
       "    </tr>\n",
       "    <tr>\n",
       "      <th>...</th>\n",
       "      <td>...</td>\n",
       "      <td>...</td>\n",
       "      <td>...</td>\n",
       "      <td>...</td>\n",
       "    </tr>\n",
       "    <tr>\n",
       "      <th>56392</th>\n",
       "      <td>Zimbabwe</td>\n",
       "      <td>2013</td>\n",
       "      <td>12.495983</td>\n",
       "      <td>10.687594</td>\n",
       "    </tr>\n",
       "    <tr>\n",
       "      <th>56393</th>\n",
       "      <td>Zimbabwe</td>\n",
       "      <td>2014</td>\n",
       "      <td>12.512582</td>\n",
       "      <td>10.698576</td>\n",
       "    </tr>\n",
       "    <tr>\n",
       "      <th>56394</th>\n",
       "      <td>Zimbabwe</td>\n",
       "      <td>2015</td>\n",
       "      <td>12.529954</td>\n",
       "      <td>10.709341</td>\n",
       "    </tr>\n",
       "    <tr>\n",
       "      <th>56395</th>\n",
       "      <td>Zimbabwe</td>\n",
       "      <td>2016</td>\n",
       "      <td>12.546594</td>\n",
       "      <td>10.728702</td>\n",
       "    </tr>\n",
       "    <tr>\n",
       "      <th>56396</th>\n",
       "      <td>Zimbabwe</td>\n",
       "      <td>2017</td>\n",
       "      <td>12.561063</td>\n",
       "      <td>10.740696</td>\n",
       "    </tr>\n",
       "  </tbody>\n",
       "</table>\n",
       "<p>6468 rows × 4 columns</p>\n",
       "</div>"
      ],
      "text/plain": [
       "           Country  Year  Male_total  Female_total\n",
       "1      Afghanistan  1990   17.448695     17.634233\n",
       "2      Afghanistan  1991   17.771263     17.873184\n",
       "3      Afghanistan  1992   18.051575     18.092318\n",
       "4      Afghanistan  1993   18.275848     18.265196\n",
       "5      Afghanistan  1994   18.427490     18.383394\n",
       "...            ...   ...         ...           ...\n",
       "56392     Zimbabwe  2013   12.495983     10.687594\n",
       "56393     Zimbabwe  2014   12.512582     10.698576\n",
       "56394     Zimbabwe  2015   12.529954     10.709341\n",
       "56395     Zimbabwe  2016   12.546594     10.728702\n",
       "56396     Zimbabwe  2017   12.561063     10.740696\n",
       "\n",
       "[6468 rows x 4 columns]"
      ]
     },
     "execution_count": 58,
     "metadata": {},
     "output_type": "execute_result"
    }
   ],
   "source": [
    "total_sex.dropna(inplace=True)"
   ]
  },
  {
   "cell_type": "code",
   "execution_count": 45,
   "metadata": {},
   "outputs": [
    {
     "data": {
      "text/html": [
       "<div>\n",
       "<style scoped>\n",
       "    .dataframe tbody tr th:only-of-type {\n",
       "        vertical-align: middle;\n",
       "    }\n",
       "\n",
       "    .dataframe tbody tr th {\n",
       "        vertical-align: top;\n",
       "    }\n",
       "\n",
       "    .dataframe thead th {\n",
       "        text-align: right;\n",
       "    }\n",
       "</style>\n",
       "<table border=\"1\" class=\"dataframe\">\n",
       "  <thead>\n",
       "    <tr style=\"text-align: right;\">\n",
       "      <th></th>\n",
       "      <th>Income</th>\n",
       "      <th>Year</th>\n",
       "      <th>Schizophrenia</th>\n",
       "      <th>Bipolar</th>\n",
       "      <th>ED</th>\n",
       "      <th>Anxiety</th>\n",
       "      <th>Drugs</th>\n",
       "      <th>Depression</th>\n",
       "      <th>Alcohol</th>\n",
       "      <th>Dep_prev</th>\n",
       "      <th>Male_dep</th>\n",
       "      <th>Female_dep</th>\n",
       "      <th>Total_prev</th>\n",
       "    </tr>\n",
       "  </thead>\n",
       "  <tbody>\n",
       "    <tr>\n",
       "      <th>0</th>\n",
       "      <td>World Bank High Income</td>\n",
       "      <td>1990</td>\n",
       "      <td>0.349837</td>\n",
       "      <td>0.786395</td>\n",
       "      <td>0.390832</td>\n",
       "      <td>5.080294</td>\n",
       "      <td>1.377799</td>\n",
       "      <td>3.728780</td>\n",
       "      <td>2.238104</td>\n",
       "      <td>3.728780</td>\n",
       "      <td>2.910869</td>\n",
       "      <td>4.491153</td>\n",
       "      <td>14.357230</td>\n",
       "    </tr>\n",
       "    <tr>\n",
       "      <th>1</th>\n",
       "      <td>World Bank High Income</td>\n",
       "      <td>1991</td>\n",
       "      <td>0.351302</td>\n",
       "      <td>0.787030</td>\n",
       "      <td>0.397064</td>\n",
       "      <td>5.081799</td>\n",
       "      <td>1.394368</td>\n",
       "      <td>3.743666</td>\n",
       "      <td>2.219053</td>\n",
       "      <td>3.743666</td>\n",
       "      <td>2.919939</td>\n",
       "      <td>4.512909</td>\n",
       "      <td>14.387759</td>\n",
       "    </tr>\n",
       "    <tr>\n",
       "      <th>2</th>\n",
       "      <td>World Bank High Income</td>\n",
       "      <td>1992</td>\n",
       "      <td>0.352642</td>\n",
       "      <td>0.787801</td>\n",
       "      <td>0.402772</td>\n",
       "      <td>5.084536</td>\n",
       "      <td>1.410451</td>\n",
       "      <td>3.761546</td>\n",
       "      <td>2.199737</td>\n",
       "      <td>3.761546</td>\n",
       "      <td>2.931513</td>\n",
       "      <td>4.537947</td>\n",
       "      <td>14.421124</td>\n",
       "    </tr>\n",
       "    <tr>\n",
       "      <th>3</th>\n",
       "      <td>World Bank High Income</td>\n",
       "      <td>1993</td>\n",
       "      <td>0.353803</td>\n",
       "      <td>0.788598</td>\n",
       "      <td>0.407782</td>\n",
       "      <td>5.087854</td>\n",
       "      <td>1.425537</td>\n",
       "      <td>3.781520</td>\n",
       "      <td>2.181322</td>\n",
       "      <td>3.781520</td>\n",
       "      <td>2.945393</td>\n",
       "      <td>4.564693</td>\n",
       "      <td>14.455324</td>\n",
       "    </tr>\n",
       "    <tr>\n",
       "      <th>4</th>\n",
       "      <td>World Bank High Income</td>\n",
       "      <td>1994</td>\n",
       "      <td>0.354764</td>\n",
       "      <td>0.789333</td>\n",
       "      <td>0.411640</td>\n",
       "      <td>5.091523</td>\n",
       "      <td>1.438795</td>\n",
       "      <td>3.802907</td>\n",
       "      <td>2.164989</td>\n",
       "      <td>3.802907</td>\n",
       "      <td>2.961282</td>\n",
       "      <td>4.592139</td>\n",
       "      <td>14.488410</td>\n",
       "    </tr>\n",
       "    <tr>\n",
       "      <th>...</th>\n",
       "      <td>...</td>\n",
       "      <td>...</td>\n",
       "      <td>...</td>\n",
       "      <td>...</td>\n",
       "      <td>...</td>\n",
       "      <td>...</td>\n",
       "      <td>...</td>\n",
       "      <td>...</td>\n",
       "      <td>...</td>\n",
       "      <td>...</td>\n",
       "      <td>...</td>\n",
       "      <td>...</td>\n",
       "      <td>...</td>\n",
       "    </tr>\n",
       "    <tr>\n",
       "      <th>115</th>\n",
       "      <td>World Bank Upper Middle Income</td>\n",
       "      <td>2015</td>\n",
       "      <td>0.308526</td>\n",
       "      <td>0.475078</td>\n",
       "      <td>0.164308</td>\n",
       "      <td>4.093712</td>\n",
       "      <td>0.706593</td>\n",
       "      <td>3.329720</td>\n",
       "      <td>1.514542</td>\n",
       "      <td>3.329720</td>\n",
       "      <td>2.555914</td>\n",
       "      <td>4.066753</td>\n",
       "      <td>12.436956</td>\n",
       "    </tr>\n",
       "    <tr>\n",
       "      <th>116</th>\n",
       "      <td>World Bank Upper Middle Income</td>\n",
       "      <td>2016</td>\n",
       "      <td>0.310809</td>\n",
       "      <td>0.477434</td>\n",
       "      <td>0.168254</td>\n",
       "      <td>4.138800</td>\n",
       "      <td>0.725803</td>\n",
       "      <td>3.331579</td>\n",
       "      <td>1.511265</td>\n",
       "      <td>3.331579</td>\n",
       "      <td>2.559298</td>\n",
       "      <td>4.067300</td>\n",
       "      <td>12.481145</td>\n",
       "    </tr>\n",
       "    <tr>\n",
       "      <th>117</th>\n",
       "      <td>World Bank Upper Middle Income</td>\n",
       "      <td>2017</td>\n",
       "      <td>0.313086</td>\n",
       "      <td>0.479685</td>\n",
       "      <td>0.171563</td>\n",
       "      <td>4.185851</td>\n",
       "      <td>0.746686</td>\n",
       "      <td>3.332059</td>\n",
       "      <td>1.511673</td>\n",
       "      <td>3.332059</td>\n",
       "      <td>2.562882</td>\n",
       "      <td>4.064821</td>\n",
       "      <td>12.525723</td>\n",
       "    </tr>\n",
       "    <tr>\n",
       "      <th>118</th>\n",
       "      <td>World Bank Upper Middle Income</td>\n",
       "      <td>2018</td>\n",
       "      <td>0.312974</td>\n",
       "      <td>0.481878</td>\n",
       "      <td>0.173578</td>\n",
       "      <td>4.192571</td>\n",
       "      <td>0.748686</td>\n",
       "      <td>3.330413</td>\n",
       "      <td>1.517199</td>\n",
       "      <td>3.330413</td>\n",
       "      <td>2.564021</td>\n",
       "      <td>4.060546</td>\n",
       "      <td>12.526063</td>\n",
       "    </tr>\n",
       "    <tr>\n",
       "      <th>119</th>\n",
       "      <td>World Bank Upper Middle Income</td>\n",
       "      <td>2019</td>\n",
       "      <td>0.312283</td>\n",
       "      <td>0.484107</td>\n",
       "      <td>0.175025</td>\n",
       "      <td>4.181423</td>\n",
       "      <td>0.747494</td>\n",
       "      <td>3.322933</td>\n",
       "      <td>1.520577</td>\n",
       "      <td>3.322933</td>\n",
       "      <td>2.562366</td>\n",
       "      <td>4.047404</td>\n",
       "      <td>12.500398</td>\n",
       "    </tr>\n",
       "  </tbody>\n",
       "</table>\n",
       "<p>120 rows × 13 columns</p>\n",
       "</div>"
      ],
      "text/plain": [
       "                             Income  Year  Schizophrenia   Bipolar        ED  \\\n",
       "0            World Bank High Income  1990       0.349837  0.786395  0.390832   \n",
       "1            World Bank High Income  1991       0.351302  0.787030  0.397064   \n",
       "2            World Bank High Income  1992       0.352642  0.787801  0.402772   \n",
       "3            World Bank High Income  1993       0.353803  0.788598  0.407782   \n",
       "4            World Bank High Income  1994       0.354764  0.789333  0.411640   \n",
       "..                              ...   ...            ...       ...       ...   \n",
       "115  World Bank Upper Middle Income  2015       0.308526  0.475078  0.164308   \n",
       "116  World Bank Upper Middle Income  2016       0.310809  0.477434  0.168254   \n",
       "117  World Bank Upper Middle Income  2017       0.313086  0.479685  0.171563   \n",
       "118  World Bank Upper Middle Income  2018       0.312974  0.481878  0.173578   \n",
       "119  World Bank Upper Middle Income  2019       0.312283  0.484107  0.175025   \n",
       "\n",
       "      Anxiety     Drugs  Depression   Alcohol  Dep_prev  Male_dep  Female_dep  \\\n",
       "0    5.080294  1.377799    3.728780  2.238104  3.728780  2.910869    4.491153   \n",
       "1    5.081799  1.394368    3.743666  2.219053  3.743666  2.919939    4.512909   \n",
       "2    5.084536  1.410451    3.761546  2.199737  3.761546  2.931513    4.537947   \n",
       "3    5.087854  1.425537    3.781520  2.181322  3.781520  2.945393    4.564693   \n",
       "4    5.091523  1.438795    3.802907  2.164989  3.802907  2.961282    4.592139   \n",
       "..        ...       ...         ...       ...       ...       ...         ...   \n",
       "115  4.093712  0.706593    3.329720  1.514542  3.329720  2.555914    4.066753   \n",
       "116  4.138800  0.725803    3.331579  1.511265  3.331579  2.559298    4.067300   \n",
       "117  4.185851  0.746686    3.332059  1.511673  3.332059  2.562882    4.064821   \n",
       "118  4.192571  0.748686    3.330413  1.517199  3.330413  2.564021    4.060546   \n",
       "119  4.181423  0.747494    3.322933  1.520577  3.322933  2.562366    4.047404   \n",
       "\n",
       "     Total_prev  \n",
       "0     14.357230  \n",
       "1     14.387759  \n",
       "2     14.421124  \n",
       "3     14.455324  \n",
       "4     14.488410  \n",
       "..          ...  \n",
       "115   12.436956  \n",
       "116   12.481145  \n",
       "117   12.525723  \n",
       "118   12.526063  \n",
       "119   12.500398  \n",
       "\n",
       "[120 rows x 13 columns]"
      ]
     },
     "execution_count": 45,
     "metadata": {},
     "output_type": "execute_result"
    }
   ],
   "source": [
    "df_inc"
   ]
  },
  {
   "cell_type": "code",
   "execution_count": 179,
   "metadata": {},
   "outputs": [
    {
     "data": {
      "image/png": "[encoded data removed]",
      "text/plain": [
       "<Figure size 500x500 with 1 Axes>"
      ]
     },
     "metadata": {},
     "output_type": "display_data"
    }
   ],
   "source": [
    "x_labels = ['Clase alta', 'Clase baja', 'Clase media-baja', 'Clase media-alta'] # labels for x-axis\n",
    "\n",
    "sns.catplot(x=\"Income\", y=\"Total_prev\", kind=\"box\", data=df_inc);\n",
    "plt.title('Salud mental y nivel de ingresos')\n",
    "plt.xticks(ticks=[0,1,2,3],labels=x_labels,rotation=-45)\n",
    "plt.xlabel('Ingresos')\n",
    "plt.ylabel('Prevalencia total en %');\n",
    "plt.savefig('images/fig4.png', bbox_inches='tight')"
   ]
  },
  {
   "cell_type": "code",
   "execution_count": 100,
   "metadata": {},
   "outputs": [
    {
     "data": {
      "text/plain": [
       "3.153389240158962"
      ]
     },
     "execution_count": 100,
     "metadata": {},
     "output_type": "execute_result"
    }
   ],
   "source": [
    "depresion_sex['Male_dep'].mean()"
   ]
  },
  {
   "cell_type": "code",
   "execution_count": 101,
   "metadata": {},
   "outputs": [
    {
     "data": {
      "text/plain": [
       "4.7094972299120474"
      ]
     },
     "execution_count": 101,
     "metadata": {},
     "output_type": "execute_result"
    }
   ],
   "source": [
    "depresion_sex['Female_dep'].mean()"
   ]
  },
  {
   "cell_type": "code",
   "execution_count": 106,
   "metadata": {},
   "outputs": [
    {
     "data": {
      "text/plain": [
       "Continent\n",
       "African Region (WHO)                  3.836878\n",
       "Eastern Mediterranean Region (WHO)    3.458530\n",
       "European Region (WHO)                 3.032824\n",
       "Region of the Americas (WHO)          2.900099\n",
       "South-East Asia Region (WHO)          3.149410\n",
       "Western Pacific Region (WHO)          2.317485\n",
       "Name: mean, dtype: float64"
      ]
     },
     "execution_count": 106,
     "metadata": {},
     "output_type": "execute_result"
    }
   ],
   "source": [
    "df_cont.groupby('Continent').describe()['Male_dep']['mean']"
   ]
  },
  {
   "cell_type": "code",
   "execution_count": 107,
   "metadata": {},
   "outputs": [
    {
     "data": {
      "text/html": [
       "<div>\n",
       "<style scoped>\n",
       "    .dataframe tbody tr th:only-of-type {\n",
       "        vertical-align: middle;\n",
       "    }\n",
       "\n",
       "    .dataframe tbody tr th {\n",
       "        vertical-align: top;\n",
       "    }\n",
       "\n",
       "    .dataframe thead th {\n",
       "        text-align: right;\n",
       "    }\n",
       "</style>\n",
       "<table border=\"1\" class=\"dataframe\">\n",
       "  <thead>\n",
       "    <tr style=\"text-align: right;\">\n",
       "      <th></th>\n",
       "      <th>Continent</th>\n",
       "      <th>Year</th>\n",
       "      <th>Schizophrenia</th>\n",
       "      <th>Bipolar</th>\n",
       "      <th>ED</th>\n",
       "      <th>Anxiety</th>\n",
       "      <th>Drugs</th>\n",
       "      <th>Depression</th>\n",
       "      <th>Alcohol</th>\n",
       "      <th>Dep_prev</th>\n",
       "      <th>Male_dep</th>\n",
       "      <th>Female_dep</th>\n",
       "      <th>Total_prev</th>\n",
       "    </tr>\n",
       "  </thead>\n",
       "  <tbody>\n",
       "    <tr>\n",
       "      <th>0</th>\n",
       "      <td>African Region (WHO)</td>\n",
       "      <td>1990</td>\n",
       "      <td>0.216352</td>\n",
       "      <td>0.581938</td>\n",
       "      <td>0.102983</td>\n",
       "      <td>3.537832</td>\n",
       "      <td>0.437110</td>\n",
       "      <td>4.725167</td>\n",
       "      <td>1.152445</td>\n",
       "      <td>4.725167</td>\n",
       "      <td>3.844021</td>\n",
       "      <td>5.576728</td>\n",
       "      <td>12.411191</td>\n",
       "    </tr>\n",
       "    <tr>\n",
       "      <th>1</th>\n",
       "      <td>African Region (WHO)</td>\n",
       "      <td>1991</td>\n",
       "      <td>0.216379</td>\n",
       "      <td>0.582026</td>\n",
       "      <td>0.102086</td>\n",
       "      <td>3.535734</td>\n",
       "      <td>0.440948</td>\n",
       "      <td>4.715682</td>\n",
       "      <td>1.152155</td>\n",
       "      <td>4.715682</td>\n",
       "      <td>3.836439</td>\n",
       "      <td>5.565375</td>\n",
       "      <td>12.413391</td>\n",
       "    </tr>\n",
       "    <tr>\n",
       "      <th>2</th>\n",
       "      <td>African Region (WHO)</td>\n",
       "      <td>1992</td>\n",
       "      <td>0.216394</td>\n",
       "      <td>0.582084</td>\n",
       "      <td>0.101291</td>\n",
       "      <td>3.533891</td>\n",
       "      <td>0.444273</td>\n",
       "      <td>4.706978</td>\n",
       "      <td>1.148381</td>\n",
       "      <td>4.706978</td>\n",
       "      <td>3.830065</td>\n",
       "      <td>5.554457</td>\n",
       "      <td>12.415239</td>\n",
       "    </tr>\n",
       "    <tr>\n",
       "      <th>3</th>\n",
       "      <td>African Region (WHO)</td>\n",
       "      <td>1993</td>\n",
       "      <td>0.216392</td>\n",
       "      <td>0.582137</td>\n",
       "      <td>0.100536</td>\n",
       "      <td>3.532413</td>\n",
       "      <td>0.446924</td>\n",
       "      <td>4.699633</td>\n",
       "      <td>1.143184</td>\n",
       "      <td>4.699633</td>\n",
       "      <td>3.825478</td>\n",
       "      <td>5.544718</td>\n",
       "      <td>12.417944</td>\n",
       "    </tr>\n",
       "    <tr>\n",
       "      <th>4</th>\n",
       "      <td>African Region (WHO)</td>\n",
       "      <td>1994</td>\n",
       "      <td>0.216365</td>\n",
       "      <td>0.582201</td>\n",
       "      <td>0.099860</td>\n",
       "      <td>3.531429</td>\n",
       "      <td>0.448519</td>\n",
       "      <td>4.696143</td>\n",
       "      <td>1.140921</td>\n",
       "      <td>4.696143</td>\n",
       "      <td>3.822731</td>\n",
       "      <td>5.540255</td>\n",
       "      <td>12.423707</td>\n",
       "    </tr>\n",
       "    <tr>\n",
       "      <th>...</th>\n",
       "      <td>...</td>\n",
       "      <td>...</td>\n",
       "      <td>...</td>\n",
       "      <td>...</td>\n",
       "      <td>...</td>\n",
       "      <td>...</td>\n",
       "      <td>...</td>\n",
       "      <td>...</td>\n",
       "      <td>...</td>\n",
       "      <td>...</td>\n",
       "      <td>...</td>\n",
       "      <td>...</td>\n",
       "      <td>...</td>\n",
       "    </tr>\n",
       "    <tr>\n",
       "      <th>175</th>\n",
       "      <td>Western Pacific Region (WHO)</td>\n",
       "      <td>2015</td>\n",
       "      <td>0.324890</td>\n",
       "      <td>0.272669</td>\n",
       "      <td>0.143719</td>\n",
       "      <td>3.349340</td>\n",
       "      <td>0.642979</td>\n",
       "      <td>2.870449</td>\n",
       "      <td>1.194855</td>\n",
       "      <td>2.870449</td>\n",
       "      <td>2.239629</td>\n",
       "      <td>3.484633</td>\n",
       "      <td>11.195751</td>\n",
       "    </tr>\n",
       "    <tr>\n",
       "      <th>176</th>\n",
       "      <td>Western Pacific Region (WHO)</td>\n",
       "      <td>2016</td>\n",
       "      <td>0.327911</td>\n",
       "      <td>0.272842</td>\n",
       "      <td>0.147809</td>\n",
       "      <td>3.394425</td>\n",
       "      <td>0.671333</td>\n",
       "      <td>2.870915</td>\n",
       "      <td>1.208224</td>\n",
       "      <td>2.870915</td>\n",
       "      <td>2.239556</td>\n",
       "      <td>3.485687</td>\n",
       "      <td>11.230811</td>\n",
       "    </tr>\n",
       "    <tr>\n",
       "      <th>177</th>\n",
       "      <td>Western Pacific Region (WHO)</td>\n",
       "      <td>2017</td>\n",
       "      <td>0.330952</td>\n",
       "      <td>0.272996</td>\n",
       "      <td>0.151235</td>\n",
       "      <td>3.442034</td>\n",
       "      <td>0.701439</td>\n",
       "      <td>2.870767</td>\n",
       "      <td>1.225461</td>\n",
       "      <td>2.870767</td>\n",
       "      <td>2.240424</td>\n",
       "      <td>3.484493</td>\n",
       "      <td>11.268919</td>\n",
       "    </tr>\n",
       "    <tr>\n",
       "      <th>178</th>\n",
       "      <td>Western Pacific Region (WHO)</td>\n",
       "      <td>2018</td>\n",
       "      <td>0.330982</td>\n",
       "      <td>0.273171</td>\n",
       "      <td>0.153276</td>\n",
       "      <td>3.441231</td>\n",
       "      <td>0.706279</td>\n",
       "      <td>2.870745</td>\n",
       "      <td>1.238534</td>\n",
       "      <td>2.870745</td>\n",
       "      <td>2.242757</td>\n",
       "      <td>3.481843</td>\n",
       "      <td>11.261979</td>\n",
       "    </tr>\n",
       "    <tr>\n",
       "      <th>179</th>\n",
       "      <td>Western Pacific Region (WHO)</td>\n",
       "      <td>2019</td>\n",
       "      <td>0.330344</td>\n",
       "      <td>0.273372</td>\n",
       "      <td>0.154662</td>\n",
       "      <td>3.414213</td>\n",
       "      <td>0.708363</td>\n",
       "      <td>2.866361</td>\n",
       "      <td>1.246875</td>\n",
       "      <td>2.866361</td>\n",
       "      <td>2.244455</td>\n",
       "      <td>3.470874</td>\n",
       "      <td>11.224930</td>\n",
       "    </tr>\n",
       "  </tbody>\n",
       "</table>\n",
       "<p>180 rows × 13 columns</p>\n",
       "</div>"
      ],
      "text/plain": [
       "                        Continent  Year  Schizophrenia   Bipolar        ED  \\\n",
       "0            African Region (WHO)  1990       0.216352  0.581938  0.102983   \n",
       "1            African Region (WHO)  1991       0.216379  0.582026  0.102086   \n",
       "2            African Region (WHO)  1992       0.216394  0.582084  0.101291   \n",
       "3            African Region (WHO)  1993       0.216392  0.582137  0.100536   \n",
       "4            African Region (WHO)  1994       0.216365  0.582201  0.099860   \n",
       "..                            ...   ...            ...       ...       ...   \n",
       "175  Western Pacific Region (WHO)  2015       0.324890  0.272669  0.143719   \n",
       "176  Western Pacific Region (WHO)  2016       0.327911  0.272842  0.147809   \n",
       "177  Western Pacific Region (WHO)  2017       0.330952  0.272996  0.151235   \n",
       "178  Western Pacific Region (WHO)  2018       0.330982  0.273171  0.153276   \n",
       "179  Western Pacific Region (WHO)  2019       0.330344  0.273372  0.154662   \n",
       "\n",
       "      Anxiety     Drugs  Depression   Alcohol  Dep_prev  Male_dep  Female_dep  \\\n",
       "0    3.537832  0.437110    4.725167  1.152445  4.725167  3.844021    5.576728   \n",
       "1    3.535734  0.440948    4.715682  1.152155  4.715682  3.836439    5.565375   \n",
       "2    3.533891  0.444273    4.706978  1.148381  4.706978  3.830065    5.554457   \n",
       "3    3.532413  0.446924    4.699633  1.143184  4.699633  3.825478    5.544718   \n",
       "4    3.531429  0.448519    4.696143  1.140921  4.696143  3.822731    5.540255   \n",
       "..        ...       ...         ...       ...       ...       ...         ...   \n",
       "175  3.349340  0.642979    2.870449  1.194855  2.870449  2.239629    3.484633   \n",
       "176  3.394425  0.671333    2.870915  1.208224  2.870915  2.239556    3.485687   \n",
       "177  3.442034  0.701439    2.870767  1.225461  2.870767  2.240424    3.484493   \n",
       "178  3.441231  0.706279    2.870745  1.238534  2.870745  2.242757    3.481843   \n",
       "179  3.414213  0.708363    2.866361  1.246875  2.866361  2.244455    3.470874   \n",
       "\n",
       "     Total_prev  \n",
       "0     12.411191  \n",
       "1     12.413391  \n",
       "2     12.415239  \n",
       "3     12.417944  \n",
       "4     12.423707  \n",
       "..          ...  \n",
       "175   11.195751  \n",
       "176   11.230811  \n",
       "177   11.268919  \n",
       "178   11.261979  \n",
       "179   11.224930  \n",
       "\n",
       "[180 rows x 13 columns]"
      ]
     },
     "execution_count": 107,
     "metadata": {},
     "output_type": "execute_result"
    }
   ],
   "source": [
    "df_cont"
   ]
  },
  {
   "cell_type": "code",
   "execution_count": 171,
   "metadata": {},
   "outputs": [],
   "source": [
    "c_cont.rename(columns={'Male_dep':'Hombres',\n",
    "                        'Female_dep': 'Mujeres'}, inplace=True)"
   ]
  },
  {
   "cell_type": "code",
   "execution_count": 172,
   "metadata": {},
   "outputs": [],
   "source": [
    "depsex = (c_cont.drop(columns='Year')\n",
    "                        .melt(id_vars='Continent')\n",
    "                        .rename(columns={'variable':'Género', 'value':'share'})\n",
    "                )"
   ]
  },
  {
   "cell_type": "code",
   "execution_count": 178,
   "metadata": {},
   "outputs": [
    {
     "data": {
      "image/png": "[encoded data removed]",
      "text/plain": [
       "<Figure size 640x480 with 1 Axes>"
      ]
     },
     "metadata": {},
     "output_type": "display_data"
    }
   ],
   "source": [
    "\n",
    "fig, ax = plt.subplots()\n",
    "ax.set_title('Prevalencia de la depresión por continente y género')\n",
    "ax.set_xlabel('Continente')\n",
    "ax.set_ylabel('Prevalencia en %')\n",
    "\n",
    "\n",
    "plt.xticks(rotation=-40)\n",
    "\n",
    "\n",
    "sns.scatterplot(data=depsex, x='Continent', y='share', hue='Género', ax=ax)\n",
    "plt.savefig('images/fig5.png', bbox_inches='tight')"
   ]
  }
 ],
 "metadata": {
  "kernelspec": {
   "display_name": "Python 3",
   "language": "python",
   "name": "python3"
  },
  "language_info": {
   "codemirror_mode": {
    "name": "ipython",
    "version": 3
   },
   "file_extension": ".py",
   "mimetype": "text/x-python",
   "name": "python",
   "nbconvert_exporter": "python",
   "pygments_lexer": "ipython3",
   "version": "3.7.4"
  },
  "orig_nbformat": 4,
  "vscode": {
   "interpreter": {
    "hash": "5c7855af51e3b65dc9bbd99e144f6a35175e6720a6ba36a4f5092674d9dd90ab"
   }
  }
 },
 "nbformat": 4,
 "nbformat_minor": 2
}
