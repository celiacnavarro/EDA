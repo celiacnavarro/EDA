{
 "cells": [
  {
   "attachments": {},
   "cell_type": "markdown",
   "metadata": {},
   "source": [
    "## Memoria del proyecto\n",
    "\n",
    "* Importamos las librerías necesarias (pandas, numpy, matplotlib, seaborn...)\n",
    "\n",
    "* Cargamos los 5 dataframes con los que vamos a trabajar\n",
    "\n",
    "* Utilizamos la clase DataInfo para obtener información sobre los dataframes (filas, columnas, null values...)\n",
    "\n",
    "* Cambiamos los nombres de las columnas para trabajar con ellos más fácilmente\n",
    "\n",
    "* Eliminamos columnas que no vamos a utilizar (población del país, código del nombre del país...)\n",
    "\n",
    "* De cada dataframe extraemos los datos correspondientes a los datos por continentes y nivel de ingresos y creamos otro dataframe por cada uno\n",
    "\n",
    "* Relacionamos los dataframes agrupados por continentes y creamos un unico dataframe con la información de los continentes\n",
    "\n",
    "* Hacemos lo mismo con los dataframes por nivel de ingresos\n",
    "\n",
    "* Comenzamos nuestro análisis exploratorio:\n",
    "\n",
    "* Gráfico de barras de la prevalencia de trastornos mentales por continentes\n",
    "\n",
    "* Gráfico de líneas de la prevalencia a lo largo de los años\n",
    "\n",
    "* Heatmap con las correlaciones entre trastornos\n",
    "\n",
    "* Boxplot con la prevalencia total de trastornos mentales por nivel de ingresos\n",
    "\n",
    "* Scatterplot con la prevalencia de trastornos depresivos en función del continente y del género\n",
    "\n"
   ]
  }
 ],
 "metadata": {
  "kernelspec": {
   "display_name": "Python 3",
   "language": "python",
   "name": "python3"
  },
  "language_info": {
   "name": "python",
   "version": "3.7.4 (tags/v3.7.4:e09359112e, Jul  8 2019, 20:34:20) [MSC v.1916 64 bit (AMD64)]"
  },
  "orig_nbformat": 4,
  "vscode": {
   "interpreter": {
    "hash": "5c7855af51e3b65dc9bbd99e144f6a35175e6720a6ba36a4f5092674d9dd90ab"
   }
  }
 },
 "nbformat": 4,
 "nbformat_minor": 2
}
